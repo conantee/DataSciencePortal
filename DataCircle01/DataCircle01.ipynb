{
 "metadata": {
  "name": "",
  "signature": "sha256:cb9e2c726a165f1ded00ebf4c2747c4d58c26ce639e503152c754714b9402967"
 },
 "nbformat": 3,
 "nbformat_minor": 0,
 "worksheets": [
  {
   "cells": [
    {
     "cell_type": "heading",
     "level": 1,
     "metadata": {},
     "source": [
      "Why probability is essential in statistics?"
     ]
    },
    {
     "cell_type": "heading",
     "level": 2,
     "metadata": {},
     "source": [
      "Prologue"
     ]
    },
    {
     "cell_type": "markdown",
     "metadata": {},
     "source": [
      "<img src=\"pic0.png\" width = \"500x\">\n",
      "\n",
      "Max was a middle school student who was tired of doing homework. He did not understand why he needed to spend so much time doing homework. To get a good score in a standardized exam? He wondered if there was any relationship between the average number of hours doing homework per week and score in a standardized exam. Fortunately, he knew that a school counseling office has this data set from students from previous year. So he got data from them and plotted average number of hours doing homework per week on the x-axis and the score in the entrance exam on the y-axis.  "
     ]
    },
    {
     "cell_type": "markdown",
     "metadata": {},
     "source": [
      "From a basic stat class, Max knew that he could draw a straight line to represent the relationship. Well, data did not align as a straight line. How could he draw a line? He remembered that the line should be drawn so that the distances between data points and lines he wanted to draw were minimized. That required some math. Since Max did not want go to through math, he just drew it roughly by hand."
     ]
    },
    {
     "cell_type": "markdown",
     "metadata": {},
     "source": [
      "<img src=\"pic1.png\" width = \"500x\">"
     ]
    },
    {
     "cell_type": "markdown",
     "metadata": {},
     "source": [
      "And that's it! He got a straight line with a small positive slope. Max concluded that the more you spend time to do homework, the higher score you will get from the exam... but wait, he asked himself. How could I be $\\textbf{CONFIDENT}$ with this conclusion? Does such small positive slope really mean true relationship? If I use this to predict my extrance exam, is it going to be exact? No way! Even the data points generating this graph do not even form a straight line. How could I say something about $\\textbf{UNCERTAINTY}$ in my prediction?"
     ]
    },
    {
     "cell_type": "markdown",
     "metadata": {},
     "source": [
      "But that's a dead end. What he learned from wishy washy stats class did not address any issue like this at all. He became hopeless and about to give up."
     ]
    },
    {
     "cell_type": "markdown",
     "metadata": {},
     "source": [
      "Then Mr.Sunny, Max's teacher on basic probability passed by. He observed what Max did with a big pile of data and offered him a help. Mr.Sunny said that probability can help Max solving this issue. With concise use of probability, we could say much more about the confidence in explaining relationship and uncertainty in prediction from such relationship. Max felt a bit skeptical because basic probability class with Mr.Sunny was all about tossing coins, computing how 7 is most likely result from rolling two dice, and so on. Anyway, for him, Mr.Sunny's class was fun and he seemed to have a lot to tell but the semester was too short, so there might be cool things to learn from him.  "
     ]
    },
    {
     "cell_type": "heading",
     "level": 2,
     "metadata": {},
     "source": [
      "Simple example: bell-curve distribution"
     ]
    },
    {
     "cell_type": "markdown",
     "metadata": {},
     "source": [
      "Mr.Sunny took documents from Max. He looked at data and asks Max to sample 100 students and look at their standardized scores. So there were 100 data points. Mr.Sunny told Max to forgot about finding relationship between two quantities for a moment and just answer a simpler question. What should be a representative number for standardized exam score for this school? "
     ]
    },
    {
     "cell_type": "markdown",
     "metadata": {},
     "source": [
      "Even though Max did not like homework, it did not mean he did not pay attention to class. He answered promptly that he would average the number from those 100 students and uses it as a representative number. He computes and gets 51 points."
     ]
    },
    {
     "cell_type": "markdown",
     "metadata": {},
     "source": [
      "Mr. Sunny smiled and asked him a following question: is standardized exam score for this scool higher than 50 points?"
     ]
    },
    {
     "cell_type": "markdown",
     "metadata": {},
     "source": [
      "Max was about to answer \"Yes!\" right away because 51 is greater than 50. But wait. When I look into the data, standardized exam score can be smaller than 50 points for some students. And difference of 1 is really a deal? How could I be confident about such difference? How could I address uncertainty in the scorce 51 points I have?\n",
      "\n",
      "Then Max realized that he ran into similar problem: how to introduce confidence and uncertainty in statistics. This time, however, the problem is simplified to a single number, not a relationship. He thought he was about to see a connection between data and\n",
      " probability... but what is it really?"
     ]
    },
    {
     "cell_type": "markdown",
     "metadata": {},
     "source": [
      "Mr. Sunny suggested Max to plot a histogram of standardized exam scores of 100 students. The horizontal axis shows several intervals of score, and vertical axis shows count for each interval. Mr. Sunny asked Max if he had seen this plot before. Max thought for a while and then realized that this shape is a shape of probability distribution called bell-shape distribution that Mr. Sunny has taught before. Then it means our data is random variable?!?"
     ]
    },
    {
     "cell_type": "markdown",
     "metadata": {},
     "source": [
      "Not quite but close, Mr. Sunny said. We can view our data as realization of random variable. Similar to the outcome of rolling dice, if we collect data again, we may not get the same numbers. Yet these numbers helps us estimate the shape of bell-shape distribution of the random variable that generates our data. Once we have a picture of probability distribution, we can use probability from the picture to address issues about confidence and uncertainty."
     ]
    },
    {
     "cell_type": "markdown",
     "metadata": {},
     "source": [
      "<img src=\"pic2.png\" width = \"500x\">"
     ]
    },
    {
     "cell_type": "markdown",
     "metadata": {},
     "source": [
      "From the histogram, Mr. Sunny suggested Max to draw a bell-curve to roughly estimate normal distribution from the data. Then Mr. Sunny told Max to look where the number 50 is in the horizontal axis and what the area separated by number 50 means. The area of under probability distribution curve told us the probability that the values on the horizontal axis below the area will occur. In this case, Max estimated by eye that there is about 60% of area of bell-shape curve on the right hand side of 50 points. It means that there is 60% probability that standardized score is higher than 50 points.  "
     ]
    },
    {
     "cell_type": "markdown",
     "metadata": {},
     "source": [
      "Lo and Behold! Mr. Sunny told Max that he found a way to address confidence. From this quick analysis, he give 60% confidence that standardized score of a student in this school is higher than 50 points. If confidence level is very high, say 95% or 99%, we may conclude that the standardized score of a student in this school is $\\textbf{significantly}$ higher than 50 points."
     ]
    },
    {
     "cell_type": "markdown",
     "metadata": {},
     "source": [
      "What about uncertainty? Max asked Mr. Sunny. Mr. Sunny told him to look at the bell-curve distribution. From the distribution, the realization of this random variable can be very large or very small, but those numbers are unlikely to occur. Mr. Sunny suggested Max to look how far from the center of distribution he needs to extend on both sides to accommodate large portion of area, say 95% of area under bell-curve distribution. By guessing from the picture, Max said he need to extend about 20 points. Mr. Sunny asked him to interpret this in term of outcomes from random variable."
     ]
    },
    {
     "cell_type": "markdown",
     "metadata": {},
     "source": [
      "<img src=\"pic3.png\" width = \"500x\">"
     ]
    },
    {
     "cell_type": "markdown",
     "metadata": {},
     "source": [
      "Well, Max thought. If the area under distribution curve between 51-20 and 51+20 points is 95% of total area, it means that if I collect  standardized score of a random student again like I roll dice, it is very likely (95% sure) that the value will fall between 51-20 and 51+20 points. Then we can use this to address $\\textbf{UNCERTAINTY}$! Instead of saying a single value, we can state the $\\textbf{confident interval}$ containing values that are likely (95% sure) to occur once we sample or realize values from the random variable again. In this way, we have a mean to communicate uncertainty in our estimate. "
     ]
    },
    {
     "cell_type": "heading",
     "level": 2,
     "metadata": {},
     "source": [
      "Generalization to linear regression and beyond"
     ]
    },
    {
     "cell_type": "markdown",
     "metadata": {},
     "source": [
      "Mr. Sunny asked Max to repeat how to introduce confidence and uncertainty when he wants to claim something about statistics of data. Max thought and told Mr. Sunny that \n",
      "\n",
      "1) The data (standardized scores of 100 students in this case) is outcome or realization of random variable. The data itself do not have concept of confidence and uncertainty, but random variable does. \n",
      "\n",
      "2) From data processing (histogram in this case), I claim that the random variable should have bell-curve probability distribution.\n",
      "\n",
      "3) After such claim, I estimate the shape of such bell-curve (rough hand drawing in this case).\n",
      "\n",
      "4) Once I got the probability distribution, I can use it to justify a claim (score is greater than 50 points in this case) where the confidence level comes from area under the distribuiton curve.\n",
      "\n",
      "5) Once I got the probability distribution, I can use it to give confidence interval of estimates (average score in this case) by looking for interval whose area above the interval is large enough (say 95% of 99%)."
     ]
    },
    {
     "cell_type": "markdown",
     "metadata": {},
     "source": [
      "Good job, Max! Mr. Sunny acclaimed. Now Mr. Sunny shows of Max's procedure maps into finding relationship between average number of hours doing homework in a week and standardized score. The simplest relationship is linear, and we call a procedure to identify linear relationship as $\\textbf{linear regression}$.\n",
      "\n",
      "<img src=\"pic5.png\" width = \"500x\">"
     ]
    },
    {
     "cell_type": "markdown",
     "metadata": {},
     "source": [
      "1) The dependent variable (standardized scores in this case) is outcome of a model with independent variables and embedded random variables. The data itself do not have concept of confidence and uncertainty, but random variable does. \n",
      "\n",
      "2) We hypothesize that the model is linear: $Y = \\beta_0 + \\beta_1 X + \\epsilon$, where $\\epsilon$ is a random variable with bell-shape distribtion centered at zero and the distribution does not depend on $X$. Moreover, the distribution of this random variable is same no matter when and where you make an observation. \n",
      "\n",
      "3) With model and data, we can estimate parameters or find $\\textbf{estimators}$ in the model. In linear regression, we need to estimate $\\beta_0, \\beta_1$ and the width of $\\epsilon$'s bell shape distribution.\n",
      "\n",
      "4) Once we have a full description of models, we can construct a random variable to represent the model and derive its probability distribution. Then we can use that variable to justify a claim similar to what we have done with a case of single random variable.\n",
      "\n",
      "5) Once we have a full description of models, we may look at the formula of estimators. These estimators surely depend on data we have collect. In general, we can substitute data with random variables and claim that estimators itself are random variables. Then we can work out its distribution and get confidence interval similar to what we have done with a case of single random variable. For Max's interest, $\\hat{\\beta_1}$, the estimator of slope, is the one he should after."
     ]
    },
    {
     "cell_type": "heading",
     "level": 2,
     "metadata": {},
     "source": [
      "Variation and other problems"
     ]
    },
    {
     "cell_type": "markdown",
     "metadata": {},
     "source": [
      "Mr. Sunny points out that the world would be simple if everything truly follows the linear model as above. In many applications, we see that the linear model as above does not have high confidence level or brod confidence intervals for estimators. It might be because the nature of data itself does not follow the model, here are examples and ways to modify model to accommodate such discrepency:"
     ]
    },
    {
     "cell_type": "markdown",
     "metadata": {},
     "source": [
      "A) Discrete dependent variables: if we plot data between number of hours doing homework and whether the student was accepted to college or not (accept=1, reject =0), then it will be hard to draw a straight line. We need to modify model on probability, which is continuous, instead $P(Y=\\text{accept}) = f(\\beta_0+ \\beta_1 X)$ where f is non-linear. This leads to new kind of regression such as $\\textbf{logistic regression}$ and $\\textbf{Poisson regression}$. \n",
      "\n",
      "B) multiple independent variables: the standardized exam score should relate to other variables, say, family income of students (students with less financial constraint may have less stress during standardized exam). This leads to concept called $\\textbf{multi-linear regression}$: $Y = \\beta_0 + \\beta_1 X_1 + \\beta_2 X_2 + \\epsilon$, where index 1 refers to amount of hours doing homework, and index 2 refers to family income.\n",
      "\n",
      "C) discrete independent variables: the standardized exam score may relate to discrete variables, say, whether a student uses new version of textbook in class. This leads to concept called $\\textbf{indicator variables}$ and $\\textbf{factors}$. \n",
      "\n",
      "<img src=\"pic4.png\" width = \"500x\">\n",
      "\n",
      "D) Interaction between independent variables: it might be the case that spending hours doing homework has nothing to do with standardized exam score, but once student uses a new version of textbook, the strong relationship appears. The model then have non-linear $\\textbf{interaction terms}$ $X_1 X_2$ where index 1 refers to amount of hours doing homework and index 2 refers to the use of new version of textbook. \n",
      "\n",
      "E) $\\epsilon$ depends on independent variable: it might be the case that the line we draw clearly shows that students with low number of hours doing homework has a low standardized exam score, but it is not clear if students with high number of hours doing homework has a high standized exam score as we see data points spread more when x is large. This implies that we need to change assumption of $\\epsilon$ to depend on x. This is called $\\textbf{heteroskedascity}$.\n",
      "\n",
      "F) $\\epsilon$ depends on where the data collection comes from. It might be the case that there is extra variation due to which classroom students are from. Students from Mr. Sunny's classroom may consistently higher than usual because he teaches well ($\\textbf{fixed effect}$) while students from Mr. Tee's classroom may be random but clustered than usual because he asks student to study together ($\\textbf{random effect}$). This leads to breakdown $\\epsilon$ to into pieces specifically for each group.\n",
      "\n",
      "G) Dynamics: if we look data across time, it might be the case that there is a bounce back in next year if the standardized exam score is low in the previous year (principal may ask special tutoring session in a following year). Then the may add dependent variable from previous year in the model! For example,  $Y_t= \\beta_0+ \\beta_1 X_{t} + \\alpha Y_{t-1} + \\epsilon_t$. This leads to concept of $\\textbf{long run effect}$ and $\\textbf{autoregression model}$.\n",
      "\n",
      "<img src=\"pic6.png\" width = \"500x\">"
     ]
    },
    {
     "cell_type": "markdown",
     "metadata": {},
     "source": [
      "There are also more issues about...\n",
      "\n",
      "model selection: If the model has too many parameters ($\\textbf{degree of freedom}$) then the model might be $\\textbf{overfit} \\to \\textbf{high variance}$. On the other hand, if the model has too few parameters then the model is too stiff: $\\textbf{underfit} \\to \\textbf{high bias}$. We need a method to choose an appropriate level of freedom in the model ($\\textbf{cross-validation}$). If the independent variables in the model are too similar, estimators we get may be not unique ($\\textbf{problem of colinearity}$)\n",
      "\n",
      "parameter estimation: how can we find find parameters from data ($\\textbf{Maximum Likelihood Estimator}$)?\n",
      "\n",
      "diagnosis: which random variables should we use to justify the confidence in model ($\\textbf{t}$-test, $\\textbf{F}$-test) and which claim should we test against ($\\textbf{nested model}$)? Are there other means to measure model fitness in different way ($R^2$) and  settings ($\\textbf{AIC, deviance, likelihood ratio}$)? How can we detect/cope with bad data ($\\textbf{outlier detection}$ and $\\textbf{robust regression}$)?\n",
      "\n",
      "<img src=\"pic7.png\" width = \"500x\">"
     ]
    },
    {
     "cell_type": "markdown",
     "metadata": {},
     "source": [
      "Mr. Sunny paused and looked to Max. Max look puzzled so he decided to stop bragging about plethora of cool stuffs in statistics and probability. Max tried to understand everything but he did not understand it $\\underline{\\textbf{YET}}$. That challenged him to stop whining about homework and start studying harder. Max asked Mr. Sunny where he can read more about this. Mr. Sunny said there are number of free online courses he could take but it will require some math like calculus. Not a problem! Max knows that there will be some fun ahead."
     ]
    }
   ],
   "metadata": {}
  }
 ]
}