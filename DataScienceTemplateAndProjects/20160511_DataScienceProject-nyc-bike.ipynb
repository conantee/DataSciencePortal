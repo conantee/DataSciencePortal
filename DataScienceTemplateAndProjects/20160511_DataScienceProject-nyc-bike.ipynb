{
 "cells": [
  {
   "cell_type": "markdown",
   "metadata": {},
   "source": [
    "# Data Science Project: Citibike-nyc"
   ]
  },
  {
   "cell_type": "markdown",
   "metadata": {},
   "source": [
    "Note: this is a part of an exercise in CME 250A: Machine Learning with Big data"
   ]
  },
  {
   "cell_type": "markdown",
   "metadata": {},
   "source": [
    "## Stage 1: Ask a question"
   ]
  },
  {
   "cell_type": "markdown",
   "metadata": {},
   "source": [
    "My objective is to the predict the number of bikes rented at a station."
   ]
  },
  {
   "cell_type": "markdown",
   "metadata": {},
   "source": [
    "I measure the performance by R-squared."
   ]
  },
  {
   "cell_type": "markdown",
   "metadata": {},
   "source": [
    "## Stage 2: Set the environment up and get data"
   ]
  },
  {
   "cell_type": "markdown",
   "metadata": {},
   "source": [
    "First, set up necessary computational tools. We use a tool for parallel computing called h2o. See instruction along the way."
   ]
  },
  {
   "cell_type": "code",
   "execution_count": 1,
   "metadata": {
    "collapsed": false
   },
   "outputs": [],
   "source": [
    "# Python mode\n",
    "import os\n",
    "os.getcwd() #Return a string representing the current working directory\n",
    "#os.chdir(os.environ['DESK']+\"/h2o-3/h2o-py\") #A mapping object representing the string environment. \n",
    "#os.chdir(\"C:/Users/Admin/\"+\"/h2o-3/h2o-py\")\n",
    "#os.getcwd()\n",
    "import h2o\n",
    "import time"
   ]
  },
  {
   "cell_type": "code",
   "execution_count": 2,
   "metadata": {
    "collapsed": false
   },
   "outputs": [
    {
     "data": {
      "text/html": [
       "<div style=\"overflow:auto\"><table style=\"width:50%\"><tr><td>H2O cluster uptime: </td>\n",
       "<td>3 minutes 51 seconds 28 milliseconds </td></tr>\n",
       "<tr><td>H2O cluster version: </td>\n",
       "<td>3.8.2.3</td></tr>\n",
       "<tr><td>H2O cluster name: </td>\n",
       "<td>Admin</td></tr>\n",
       "<tr><td>H2O cluster total nodes: </td>\n",
       "<td>1</td></tr>\n",
       "<tr><td>H2O cluster total free memory: </td>\n",
       "<td>3.39 GB</td></tr>\n",
       "<tr><td>H2O cluster total cores: </td>\n",
       "<td>4</td></tr>\n",
       "<tr><td>H2O cluster allowed cores: </td>\n",
       "<td>4</td></tr>\n",
       "<tr><td>H2O cluster healthy: </td>\n",
       "<td>True</td></tr>\n",
       "<tr><td>H2O Connection ip: </td>\n",
       "<td>127.0.0.1</td></tr>\n",
       "<tr><td>H2O Connection port: </td>\n",
       "<td>54321</td></tr>\n",
       "<tr><td>H2O Connection proxy: </td>\n",
       "<td>None</td></tr>\n",
       "<tr><td>Python Version: </td>\n",
       "<td>2.7.8</td></tr></table></div>"
      ],
      "text/plain": [
       "------------------------------  ------------------------------------\n",
       "H2O cluster uptime:             3 minutes 51 seconds 28 milliseconds\n",
       "H2O cluster version:            3.8.2.3\n",
       "H2O cluster name:               Admin\n",
       "H2O cluster total nodes:        1\n",
       "H2O cluster total free memory:  3.39 GB\n",
       "H2O cluster total cores:        4\n",
       "H2O cluster allowed cores:      4\n",
       "H2O cluster healthy:            True\n",
       "H2O Connection ip:              127.0.0.1\n",
       "H2O Connection port:            54321\n",
       "H2O Connection proxy:\n",
       "Python Version:                 2.7.8\n",
       "------------------------------  ------------------------------------"
      ]
     },
     "metadata": {},
     "output_type": "display_data"
    }
   ],
   "source": [
    "# Connect to h2o\n",
    "h2o.init()\n",
    "#h2o.init(min_mem_size=2)\n",
    "#h2o.init(strict_version_check=False)"
   ]
  },
  {
   "cell_type": "code",
   "execution_count": null,
   "metadata": {
    "collapsed": true
   },
   "outputs": [],
   "source": [
    "# Launch h2o in \"h2o-3.8.2.3\" directory from Home directory (admin) (Install h2o for Desktop and h2o for python first)\n",
    "# cd h2o-3.8.2.3\n",
    "#\"java -Xmx4g -jar build/h2o.jar\""
   ]
  },
  {
   "cell_type": "markdown",
   "metadata": {},
   "source": [
    "I get data from a bike rentingg company (downloaded it offline) by setup Imports and Variables as follow:"
   ]
  },
  {
   "cell_type": "code",
   "execution_count": 1,
   "metadata": {
    "collapsed": false
   },
   "outputs": [
    {
     "data": {
      "text/plain": [
       "'C:\\\\Users\\\\Admin\\\\Dropbox\\\\Active\\\\DataSciencePortal'"
      ]
     },
     "execution_count": 1,
     "metadata": {},
     "output_type": "execute_result"
    }
   ],
   "source": [
    "import os\n",
    "os.getcwd()"
   ]
  },
  {
   "cell_type": "code",
   "execution_count": 3,
   "metadata": {
    "collapsed": false
   },
   "outputs": [
    {
     "name": "stdout",
     "output_type": "stream",
     "text": [
      "Import and Parse bike data\n",
      "\n",
      "Parse Progress: [##################################################] 100%\n"
     ]
    },
    {
     "name": "stderr",
     "output_type": "stream",
     "text": [
      "C:\\Users\\Admin\\Anaconda\\lib\\site-packages\\h2o\\h2o.py:316: UserWarning: ParseError at file nfs:\\C:\\Users\\Admin\\Desktop\\CME250A\\citibike-nyc\\2013-07.csv  at byte offset 4194304; error = 'Unmatched quote char \"'\n",
      "  warnings.warn(w)\n",
      "C:\\Users\\Admin\\Anaconda\\lib\\site-packages\\h2o\\h2o.py:316: UserWarning: ParseError at file nfs:\\C:\\Users\\Admin\\Desktop\\CME250A\\citibike-nyc\\2014-06.csv  at byte offset 4194304; error = 'Unmatched quote char \"'\n",
      "  warnings.warn(w)\n"
     ]
    }
   ],
   "source": [
    "# Load the bike data.\n",
    "\n",
    "DataDir = \"C:\\Users\\Admin\\Desktop\\CME250A\"\n",
    "path = DataDir+\"/citibike-nyc/\"\n",
    "#path = os.environ['DESK']+\"/h2o-3/bigdata/laptop/citibike-nyc/\"\n",
    "\n",
    "bike_trips = [path+\"2013-07.csv\",\n",
    " path+\"2013-08.csv\",\n",
    " path+\"2013-09.csv\",\n",
    " path+\"2013-10.csv\",\n",
    " path+\"2013-11.csv\",\n",
    " path+\"2013-12.csv\",\n",
    " path+\"2014-01.csv\",\n",
    " path+\"2014-02.csv\",\n",
    " path+\"2014-03.csv\",\n",
    " path+\"2014-04.csv\",\n",
    " path+\"2014-05.csv\",\n",
    " path+\"2014-06.csv\",\n",
    " path+\"2014-07.csv\",\n",
    " path+\"2014-08.csv\"]\n",
    "\n",
    "# Load data - 1 row per bicycle trip. Has columns showing the start and end\n",
    "# station, trip duration and trip start time and day. The larger dataset\n",
    "# totals about 10 million rows\\n\",\n",
    "print(\"Import and Parse bike data\")\n",
    "data = h2o.import_file(path=bike_trips)\n",
    "# Check out the java log files; see some "
   ]
  },
  {
   "cell_type": "markdown",
   "metadata": {},
   "source": [
    "## Stage 3: Explore the data"
   ]
  },
  {
   "cell_type": "markdown",
   "metadata": {},
   "source": [
    "Explore, Visualize, Clean, Transform, Feature engineering"
   ]
  },
  {
   "cell_type": "code",
   "execution_count": 4,
   "metadata": {
    "collapsed": false
   },
   "outputs": [
    {
     "data": {
      "text/html": [
       "<table>\n",
       "<tr><th>       </th><th>tripduration  </th><th>starttime        </th><th>stoptime         </th><th>start station id  </th><th>start station name     </th><th>start station latitude  </th><th>start station longitude  </th><th>end station id  </th><th>end station name           </th><th>end station latitude  </th><th>end station longitude  </th><th>bikeid       </th><th>usertype      </th><th>birth year   </th><th>gender        </th></tr>\n",
       "<tr><td>type   </td><td>int           </td><td>time             </td><td>time             </td><td>int               </td><td>enum                   </td><td>real                    </td><td>real                     </td><td>int             </td><td>enum                       </td><td>real                  </td><td>real                   </td><td>int          </td><td>enum          </td><td>int          </td><td>int           </td></tr>\n",
       "<tr><td>mins   </td><td>60.0          </td><td>1.372662e+12     </td><td>1.372662242e+12  </td><td>72.0              </td><td>0.0                    </td><td>40.680342423            </td><td>-74.01713445             </td><td>72.0            </td><td>0.0                        </td><td>40.680342423          </td><td>-74.01713445           </td><td>14529.0      </td><td>0.0           </td><td>1899.0       </td><td>0.0           </td></tr>\n",
       "<tr><td>mean   </td><td>868.968726057 </td><td>1.39099985823e+12</td><td>1.39100072718e+12</td><td>444.858835407     </td><td>NaN                    </td><td>40.7343819823           </td><td>-73.9910570182           </td><td>445.259785544   </td><td>NaN                        </td><td>40.7340868895         </td><td>-73.9911707799         </td><td>17895.6618358</td><td>0.880131781306</td><td>1975.79892394</td><td>1.08414654137 </td></tr>\n",
       "<tr><td>maxs   </td><td>6250750.0     </td><td>1.409554787e+12  </td><td>1.409563605e+12  </td><td>3002.0            </td><td>339.0                  </td><td>40.771522               </td><td>-73.9500479759           </td><td>3002.0          </td><td>339.0                      </td><td>40.771522             </td><td>-73.9500479759         </td><td>21689.0      </td><td>1.0           </td><td>1998.0       </td><td>2.0           </td></tr>\n",
       "<tr><td>sigma  </td><td>2985.10540532 </td><td>11806578171.8    </td><td>11806555707.8    </td><td>355.755989765     </td><td>NaN                    </td><td>0.0197100508736         </td><td>0.0123453320185          </td><td>360.070380844   </td><td>NaN                        </td><td>0.0197309578633       </td><td>0.0124311861598        </td><td>1938.80517884</td><td>0.324807387506</td><td>11.132784905 </td><td>0.563019777794</td></tr>\n",
       "<tr><td>zeros  </td><td>0             </td><td>0                </td><td>0                </td><td>0                 </td><td>56836                  </td><td>0                       </td><td>0                        </td><td>0               </td><td>55167                      </td><td>0                     </td><td>0                      </td><td>0            </td><td>1247534       </td><td>0            </td><td>1248517       </td></tr>\n",
       "<tr><td>missing</td><td>0             </td><td>0                </td><td>0                </td><td>0                 </td><td>0                      </td><td>0                       </td><td>0                        </td><td>0               </td><td>0                          </td><td>0                     </td><td>0                      </td><td>0            </td><td>0             </td><td>1247644      </td><td>0             </td></tr>\n",
       "<tr><td>0      </td><td>634.0         </td><td>1.372662e+12     </td><td>1.372662634e+12  </td><td>164.0             </td><td>E 47 St & 2 Ave        </td><td>40.75323098             </td><td>-73.97032517             </td><td>504.0           </td><td>1 Ave & E 15 St            </td><td>40.73221853           </td><td>-73.98165557           </td><td>16950.0      </td><td>Customer      </td><td>nan          </td><td>0.0           </td></tr>\n",
       "<tr><td>1      </td><td>1547.0        </td><td>1.372662002e+12  </td><td>1.372663549e+12  </td><td>388.0             </td><td>W 26 St & 10 Ave       </td><td>40.749717753            </td><td>-74.002950346            </td><td>459.0           </td><td>W 20 St & 11 Ave           </td><td>40.746745             </td><td>-74.007756             </td><td>19816.0      </td><td>Customer      </td><td>nan          </td><td>0.0           </td></tr>\n",
       "<tr><td>2      </td><td>178.0         </td><td>1.372662064e+12  </td><td>1.372662242e+12  </td><td>293.0             </td><td>Lafayette St & E 8 St  </td><td>40.73028666             </td><td>-73.9907647              </td><td>237.0           </td><td>E 11 St & 2 Ave            </td><td>40.73047309           </td><td>-73.98672378           </td><td>14548.0      </td><td>Subscriber    </td><td>1980.0       </td><td>2.0           </td></tr>\n",
       "<tr><td>3      </td><td>1580.0        </td><td>1.372662066e+12  </td><td>1.372663646e+12  </td><td>531.0             </td><td>Forsyth St & Broome St </td><td>40.71893904             </td><td>-73.99266288             </td><td>499.0           </td><td>Broadway & W 60 St         </td><td>40.76915505           </td><td>-73.98191841           </td><td>16063.0      </td><td>Customer      </td><td>nan          </td><td>0.0           </td></tr>\n",
       "<tr><td>4      </td><td>757.0         </td><td>1.37266207e+12   </td><td>1.372662827e+12  </td><td>382.0             </td><td>University Pl & E 14 St</td><td>40.73492695             </td><td>-73.99200509             </td><td>410.0           </td><td>Suffolk St & Stanton St    </td><td>40.72066442           </td><td>-73.98517977           </td><td>19213.0      </td><td>Subscriber    </td><td>1986.0       </td><td>1.0           </td></tr>\n",
       "<tr><td>5      </td><td>861.0         </td><td>1.372662083e+12  </td><td>1.372662944e+12  </td><td>511.0             </td><td>E 14 St & Avenue B     </td><td>40.72938685             </td><td>-73.97772429             </td><td>454.0           </td><td>E 51 St & 1 Ave            </td><td>40.75455731           </td><td>-73.96592976           </td><td>16223.0      </td><td>Subscriber    </td><td>1988.0       </td><td>1.0           </td></tr>\n",
       "<tr><td>6      </td><td>550.0         </td><td>1.372662119e+12  </td><td>1.372662669e+12  </td><td>293.0             </td><td>Lafayette St & E 8 St  </td><td>40.73028666             </td><td>-73.9907647              </td><td>394.0           </td><td>E 9 St & Avenue C          </td><td>40.72521311           </td><td>-73.97768752           </td><td>16746.0      </td><td>Customer      </td><td>nan          </td><td>0.0           </td></tr>\n",
       "<tr><td>7      </td><td>288.0         </td><td>1.372662136e+12  </td><td>1.372662424e+12  </td><td>224.0             </td><td>Spruce St & Nassau St  </td><td>40.71146364             </td><td>-74.00552427             </td><td>376.0           </td><td>John St & William St       </td><td>40.70862144           </td><td>-74.00722156           </td><td>16062.0      </td><td>Subscriber    </td><td>1985.0       </td><td>2.0           </td></tr>\n",
       "<tr><td>8      </td><td>766.0         </td><td>1.372662136e+12  </td><td>1.372662902e+12  </td><td>432.0             </td><td>E 7 St & Avenue A      </td><td>40.72621788             </td><td>-73.98379855             </td><td>336.0           </td><td>Sullivan St & Washington Sq</td><td>40.73047747           </td><td>-73.99906065           </td><td>17963.0      </td><td>Subscriber    </td><td>1980.0       </td><td>2.0           </td></tr>\n",
       "<tr><td>9      </td><td>773.0         </td><td>1.372662143e+12  </td><td>1.372662916e+12  </td><td>173.0             </td><td>Broadway & W 49 St     </td><td>40.76064679             </td><td>-73.98442659             </td><td>479.0           </td><td>9 Ave & W 45 St            </td><td>40.76019252           </td><td>-73.9912551            </td><td>19365.0      </td><td>Subscriber    </td><td>1989.0       </td><td>1.0           </td></tr>\n",
       "</table>"
      ]
     },
     "metadata": {},
     "output_type": "display_data"
    }
   ],
   "source": [
    "#EXPLORE\n",
    "# Check out the java log files; see some summary reports\n",
    "data.summary() # Too wide?"
   ]
  },
  {
   "cell_type": "code",
   "execution_count": 5,
   "metadata": {
    "collapsed": false
   },
   "outputs": [
    {
     "data": {
      "text/html": [
       "<table>\n",
       "<tr><th>       </th><th>tripduration  </th></tr>\n",
       "<tr><td>type   </td><td>int           </td></tr>\n",
       "<tr><td>mins   </td><td>60.0          </td></tr>\n",
       "<tr><td>mean   </td><td>868.968726057 </td></tr>\n",
       "<tr><td>maxs   </td><td>6250750.0     </td></tr>\n",
       "<tr><td>sigma  </td><td>2985.10540532 </td></tr>\n",
       "<tr><td>zeros  </td><td>0             </td></tr>\n",
       "<tr><td>missing</td><td>0             </td></tr>\n",
       "<tr><td>0      </td><td>634.0         </td></tr>\n",
       "<tr><td>1      </td><td>1547.0        </td></tr>\n",
       "<tr><td>2      </td><td>178.0         </td></tr>\n",
       "<tr><td>3      </td><td>1580.0        </td></tr>\n",
       "<tr><td>4      </td><td>757.0         </td></tr>\n",
       "<tr><td>5      </td><td>861.0         </td></tr>\n",
       "<tr><td>6      </td><td>550.0         </td></tr>\n",
       "<tr><td>7      </td><td>288.0         </td></tr>\n",
       "<tr><td>8      </td><td>766.0         </td></tr>\n",
       "<tr><td>9      </td><td>773.0         </td></tr>\n",
       "</table>"
      ]
     },
     "metadata": {},
     "output_type": "display_data"
    }
   ],
   "source": [
    "data[0].summary() # Trip duration"
   ]
  },
  {
   "cell_type": "markdown",
   "metadata": {},
   "source": [
    "I have run basic checks on data as follow ..."
   ]
  },
  {
   "cell_type": "code",
   "execution_count": 6,
   "metadata": {
    "collapsed": false
   },
   "outputs": [
    {
     "data": {
      "text/html": [
       "<table>\n",
       "<tr><th>       </th><th>start station name     </th></tr>\n",
       "<tr><td>type   </td><td>enum                   </td></tr>\n",
       "<tr><td>mins   </td><td>0.0                    </td></tr>\n",
       "<tr><td>mean   </td><td>NaN                    </td></tr>\n",
       "<tr><td>maxs   </td><td>339.0                  </td></tr>\n",
       "<tr><td>sigma  </td><td>NaN                    </td></tr>\n",
       "<tr><td>zeros  </td><td>56836                  </td></tr>\n",
       "<tr><td>missing</td><td>0                      </td></tr>\n",
       "<tr><td>0      </td><td>E 47 St & 2 Ave        </td></tr>\n",
       "<tr><td>1      </td><td>W 26 St & 10 Ave       </td></tr>\n",
       "<tr><td>2      </td><td>Lafayette St & E 8 St  </td></tr>\n",
       "<tr><td>3      </td><td>Forsyth St & Broome St </td></tr>\n",
       "<tr><td>4      </td><td>University Pl & E 14 St</td></tr>\n",
       "<tr><td>5      </td><td>E 14 St & Avenue B     </td></tr>\n",
       "<tr><td>6      </td><td>Lafayette St & E 8 St  </td></tr>\n",
       "<tr><td>7      </td><td>Spruce St & Nassau St  </td></tr>\n",
       "<tr><td>8      </td><td>E 7 St & Avenue A      </td></tr>\n",
       "<tr><td>9      </td><td>Broadway & W 49 St     </td></tr>\n",
       "</table>"
      ]
     },
     "metadata": {},
     "output_type": "display_data"
    }
   ],
   "source": [
    "data[4].summary() # Station names"
   ]
  },
  {
   "cell_type": "code",
   "execution_count": 7,
   "metadata": {
    "collapsed": false
   },
   "outputs": [
    {
     "data": {
      "text/html": [
       "<table>\n",
       "<tr><th>       </th><th>tripduration  </th><th>starttime        </th><th>start station name     </th><th>usertype      </th><th>birth year   </th><th>gender        </th></tr>\n",
       "<tr><td>type   </td><td>int           </td><td>time             </td><td>enum                   </td><td>enum          </td><td>int          </td><td>int           </td></tr>\n",
       "<tr><td>mins   </td><td>60.0          </td><td>1.372662e+12     </td><td>0.0                    </td><td>0.0           </td><td>1899.0       </td><td>0.0           </td></tr>\n",
       "<tr><td>mean   </td><td>868.968726057 </td><td>1.39099985823e+12</td><td>NaN                    </td><td>0.880131781306</td><td>1975.79892394</td><td>1.08414654137 </td></tr>\n",
       "<tr><td>maxs   </td><td>6250750.0     </td><td>1.409554787e+12  </td><td>339.0                  </td><td>1.0           </td><td>1998.0       </td><td>2.0           </td></tr>\n",
       "<tr><td>sigma  </td><td>2985.10540532 </td><td>11806578171.8    </td><td>NaN                    </td><td>0.324807387506</td><td>11.132784905 </td><td>0.563019777794</td></tr>\n",
       "<tr><td>zeros  </td><td>0             </td><td>0                </td><td>56836                  </td><td>1247534       </td><td>0            </td><td>1248517       </td></tr>\n",
       "<tr><td>missing</td><td>0             </td><td>0                </td><td>0                      </td><td>0             </td><td>1247644      </td><td>0             </td></tr>\n",
       "<tr><td>0      </td><td>634.0         </td><td>1.372662e+12     </td><td>E 47 St & 2 Ave        </td><td>Customer      </td><td>nan          </td><td>0.0           </td></tr>\n",
       "<tr><td>1      </td><td>1547.0        </td><td>1.372662002e+12  </td><td>W 26 St & 10 Ave       </td><td>Customer      </td><td>nan          </td><td>0.0           </td></tr>\n",
       "<tr><td>2      </td><td>178.0         </td><td>1.372662064e+12  </td><td>Lafayette St & E 8 St  </td><td>Subscriber    </td><td>1980.0       </td><td>2.0           </td></tr>\n",
       "<tr><td>3      </td><td>1580.0        </td><td>1.372662066e+12  </td><td>Forsyth St & Broome St </td><td>Customer      </td><td>nan          </td><td>0.0           </td></tr>\n",
       "<tr><td>4      </td><td>757.0         </td><td>1.37266207e+12   </td><td>University Pl & E 14 St</td><td>Subscriber    </td><td>1986.0       </td><td>1.0           </td></tr>\n",
       "<tr><td>5      </td><td>861.0         </td><td>1.372662083e+12  </td><td>E 14 St & Avenue B     </td><td>Subscriber    </td><td>1988.0       </td><td>1.0           </td></tr>\n",
       "<tr><td>6      </td><td>550.0         </td><td>1.372662119e+12  </td><td>Lafayette St & E 8 St  </td><td>Customer      </td><td>nan          </td><td>0.0           </td></tr>\n",
       "<tr><td>7      </td><td>288.0         </td><td>1.372662136e+12  </td><td>Spruce St & Nassau St  </td><td>Subscriber    </td><td>1985.0       </td><td>2.0           </td></tr>\n",
       "<tr><td>8      </td><td>766.0         </td><td>1.372662136e+12  </td><td>E 7 St & Avenue A      </td><td>Subscriber    </td><td>1980.0       </td><td>2.0           </td></tr>\n",
       "<tr><td>9      </td><td>773.0         </td><td>1.372662143e+12  </td><td>Broadway & W 49 St     </td><td>Subscriber    </td><td>1989.0       </td><td>1.0           </td></tr>\n",
       "</table>"
      ]
     },
     "metadata": {},
     "output_type": "display_data"
    }
   ],
   "source": [
    "#CLEAN\n",
    "# Drop unwanted columns\n",
    "data = data.drop(\"stoptime\").drop(\"start station id\").drop(\"start station latitude\").drop(\"start station longitude\")\\\n",
    "    .drop(\"end station id\").drop(\"end station name\").drop(\"end station latitude\").drop(\"end station longitude\").drop(\"bikeid\")\n",
    "data.summary()\n"
   ]
  },
  {
   "cell_type": "code",
   "execution_count": 8,
   "metadata": {
    "collapsed": false
   },
   "outputs": [
    {
     "data": {
      "text/html": [
       "<table>\n",
       "<tr><th>       </th><th>tripduration  </th><th>starttime        </th><th>start station name     </th><th>usertype      </th><th>birth year   </th><th>gender        </th></tr>\n",
       "<tr><td>type   </td><td>int           </td><td>time             </td><td>enum                   </td><td>enum          </td><td>int          </td><td>int           </td></tr>\n",
       "<tr><td>mins   </td><td>60.0          </td><td>1.372662e+12     </td><td>0.0                    </td><td>0.0           </td><td>1899.0       </td><td>1.0           </td></tr>\n",
       "<tr><td>mean   </td><td>868.968726057 </td><td>1.39099985823e+12</td><td>NaN                    </td><td>0.880131781306</td><td>1975.79892394</td><td>1.23193244611 </td></tr>\n",
       "<tr><td>maxs   </td><td>6250750.0     </td><td>1.409554787e+12  </td><td>339.0                  </td><td>1.0           </td><td>1998.0       </td><td>2.0           </td></tr>\n",
       "<tr><td>sigma  </td><td>2985.10540532 </td><td>11806578171.8    </td><td>NaN                    </td><td>0.324807387506</td><td>11.132784905 </td><td>0.422066115678</td></tr>\n",
       "<tr><td>zeros  </td><td>0             </td><td>0                </td><td>56836                  </td><td>1247534       </td><td>0            </td><td>0             </td></tr>\n",
       "<tr><td>missing</td><td>0             </td><td>0                </td><td>0                      </td><td>0             </td><td>1247644      </td><td>1248517       </td></tr>\n",
       "<tr><td>0      </td><td>634.0         </td><td>1.372662e+12     </td><td>E 47 St & 2 Ave        </td><td>Customer      </td><td>nan          </td><td>nan           </td></tr>\n",
       "<tr><td>1      </td><td>1547.0        </td><td>1.372662002e+12  </td><td>W 26 St & 10 Ave       </td><td>Customer      </td><td>nan          </td><td>nan           </td></tr>\n",
       "<tr><td>2      </td><td>178.0         </td><td>1.372662064e+12  </td><td>Lafayette St & E 8 St  </td><td>Subscriber    </td><td>1980.0       </td><td>2.0           </td></tr>\n",
       "<tr><td>3      </td><td>1580.0        </td><td>1.372662066e+12  </td><td>Forsyth St & Broome St </td><td>Customer      </td><td>nan          </td><td>nan           </td></tr>\n",
       "<tr><td>4      </td><td>757.0         </td><td>1.37266207e+12   </td><td>University Pl & E 14 St</td><td>Subscriber    </td><td>1986.0       </td><td>1.0           </td></tr>\n",
       "<tr><td>5      </td><td>861.0         </td><td>1.372662083e+12  </td><td>E 14 St & Avenue B     </td><td>Subscriber    </td><td>1988.0       </td><td>1.0           </td></tr>\n",
       "<tr><td>6      </td><td>550.0         </td><td>1.372662119e+12  </td><td>Lafayette St & E 8 St  </td><td>Customer      </td><td>nan          </td><td>nan           </td></tr>\n",
       "<tr><td>7      </td><td>288.0         </td><td>1.372662136e+12  </td><td>Spruce St & Nassau St  </td><td>Subscriber    </td><td>1985.0       </td><td>2.0           </td></tr>\n",
       "<tr><td>8      </td><td>766.0         </td><td>1.372662136e+12  </td><td>E 7 St & Avenue A      </td><td>Subscriber    </td><td>1980.0       </td><td>2.0           </td></tr>\n",
       "<tr><td>9      </td><td>773.0         </td><td>1.372662143e+12  </td><td>Broadway & W 49 St     </td><td>Subscriber    </td><td>1989.0       </td><td>1.0           </td></tr>\n",
       "</table>"
      ]
     },
     "metadata": {},
     "output_type": "display_data"
    }
   ],
   "source": [
    "#TRANFORM\n",
    "# Whoa! 3 Genders? 0,1,2? Guess: 0 is gender is missing\n",
    "# Convert gender==0 to None/NA\n",
    "data[data['gender']==0,'gender'] = None\n",
    "data.summary()"
   ]
  },
  {
   "cell_type": "code",
   "execution_count": 9,
   "metadata": {
    "collapsed": false
   },
   "outputs": [
    {
     "data": {
      "text/html": [
       "<table>\n",
       "<tr><th>       </th><th>tripduration  </th><th>starttime        </th><th>start station name     </th><th>usertype      </th><th>birth year   </th><th>gender        </th><th>Days         </th></tr>\n",
       "<tr><td>type   </td><td>int           </td><td>time             </td><td>enum                   </td><td>enum          </td><td>int          </td><td>int           </td><td>int          </td></tr>\n",
       "<tr><td>mins   </td><td>60.0          </td><td>1.372662e+12     </td><td>0.0                    </td><td>0.0           </td><td>1899.0       </td><td>1.0           </td><td>15887.0      </td></tr>\n",
       "<tr><td>mean   </td><td>868.968726057 </td><td>1.39099985823e+12</td><td>NaN                    </td><td>0.880131781306</td><td>1975.79892394</td><td>1.23193244611 </td><td>16099.0245177</td></tr>\n",
       "<tr><td>maxs   </td><td>6250750.0     </td><td>1.409554787e+12  </td><td>339.0                  </td><td>1.0           </td><td>1998.0       </td><td>2.0           </td><td>16314.0      </td></tr>\n",
       "<tr><td>sigma  </td><td>2985.10540532 </td><td>11806578171.8    </td><td>NaN                    </td><td>0.324807387506</td><td>11.132784905 </td><td>0.422066115678</td><td>136.647269305</td></tr>\n",
       "<tr><td>zeros  </td><td>0             </td><td>0                </td><td>56836                  </td><td>1247534       </td><td>0            </td><td>0             </td><td>0            </td></tr>\n",
       "<tr><td>missing</td><td>0             </td><td>0                </td><td>0                      </td><td>0             </td><td>1247644      </td><td>1248517       </td><td>0            </td></tr>\n",
       "<tr><td>0      </td><td>634.0         </td><td>1.372662e+12     </td><td>E 47 St & 2 Ave        </td><td>Customer      </td><td>nan          </td><td>nan           </td><td>15887.0      </td></tr>\n",
       "<tr><td>1      </td><td>1547.0        </td><td>1.372662002e+12  </td><td>W 26 St & 10 Ave       </td><td>Customer      </td><td>nan          </td><td>nan           </td><td>15887.0      </td></tr>\n",
       "<tr><td>2      </td><td>178.0         </td><td>1.372662064e+12  </td><td>Lafayette St & E 8 St  </td><td>Subscriber    </td><td>1980.0       </td><td>2.0           </td><td>15887.0      </td></tr>\n",
       "<tr><td>3      </td><td>1580.0        </td><td>1.372662066e+12  </td><td>Forsyth St & Broome St </td><td>Customer      </td><td>nan          </td><td>nan           </td><td>15887.0      </td></tr>\n",
       "<tr><td>4      </td><td>757.0         </td><td>1.37266207e+12   </td><td>University Pl & E 14 St</td><td>Subscriber    </td><td>1986.0       </td><td>1.0           </td><td>15887.0      </td></tr>\n",
       "<tr><td>5      </td><td>861.0         </td><td>1.372662083e+12  </td><td>E 14 St & Avenue B     </td><td>Subscriber    </td><td>1988.0       </td><td>1.0           </td><td>15887.0      </td></tr>\n",
       "<tr><td>6      </td><td>550.0         </td><td>1.372662119e+12  </td><td>Lafayette St & E 8 St  </td><td>Customer      </td><td>nan          </td><td>nan           </td><td>15887.0      </td></tr>\n",
       "<tr><td>7      </td><td>288.0         </td><td>1.372662136e+12  </td><td>Spruce St & Nassau St  </td><td>Subscriber    </td><td>1985.0       </td><td>2.0           </td><td>15887.0      </td></tr>\n",
       "<tr><td>8      </td><td>766.0         </td><td>1.372662136e+12  </td><td>E 7 St & Avenue A      </td><td>Subscriber    </td><td>1980.0       </td><td>2.0           </td><td>15887.0      </td></tr>\n",
       "<tr><td>9      </td><td>773.0         </td><td>1.372662143e+12  </td><td>Broadway & W 49 St     </td><td>Subscriber    </td><td>1989.0       </td><td>1.0           </td><td>15887.0      </td></tr>\n",
       "</table>"
      ]
     },
     "metadata": {},
     "output_type": "display_data"
    },
    {
     "data": {
      "text/html": [
       "<table>\n",
       "<tr><th>       </th><th>Days         </th><th>start station name  </th><th>mean_tripduration  </th><th>mean_birth year  </th><th>nrow_tripduration  </th><th>mean_gender   </th></tr>\n",
       "<tr><td>type   </td><td>int          </td><td>enum                </td><td>real               </td><td>real             </td><td>int                </td><td>real          </td></tr>\n",
       "<tr><td>mins   </td><td>15887.0      </td><td>0.0                 </td><td>62.0               </td><td>1929.5           </td><td>1.0                </td><td>1.0           </td></tr>\n",
       "<tr><td>mean   </td><td>16099.9758008</td><td>NaN                 </td><td>897.298678074      </td><td>1975.99965771    </td><td>74.7341035897      </td><td>1.23490808342 </td></tr>\n",
       "<tr><td>maxs   </td><td>16314.0      </td><td>339.0               </td><td>166694.5           </td><td>1997.0           </td><td>680.0              </td><td>2.0           </td></tr>\n",
       "<tr><td>sigma  </td><td>123.635133897</td><td>NaN                 </td><td>1358.93483261      </td><td>3.1356602598     </td><td>64.1243887565      </td><td>0.107465576239</td></tr>\n",
       "<tr><td>zeros  </td><td>0            </td><td>428                 </td><td>0                  </td><td>0                </td><td>0                  </td><td>0             </td></tr>\n",
       "<tr><td>missing</td><td>0            </td><td>0                   </td><td>0                  </td><td>64               </td><td>0                  </td><td>64            </td></tr>\n",
       "<tr><td>0      </td><td>15887.0      </td><td>1 Ave & E 15 St     </td><td>706.85106383       </td><td>1976.05263158    </td><td>47.0               </td><td>1.15789473684 </td></tr>\n",
       "<tr><td>1      </td><td>15887.0      </td><td>1 Ave & E 18 St     </td><td>927.025            </td><td>1973.81081081    </td><td>40.0               </td><td>1.13513513514 </td></tr>\n",
       "<tr><td>2      </td><td>15887.0      </td><td>1 Ave & E 30 St     </td><td>768.857142857      </td><td>1975.28571429    </td><td>42.0               </td><td>1.14285714286 </td></tr>\n",
       "<tr><td>3      </td><td>15887.0      </td><td>1 Ave & E 44 St     </td><td>636.166666667      </td><td>1974.58333333    </td><td>12.0               </td><td>1.33333333333 </td></tr>\n",
       "<tr><td>4      </td><td>15887.0      </td><td>10 Ave & W 28 St    </td><td>761.071428571      </td><td>1975.27272727    </td><td>28.0               </td><td>1.13636363636 </td></tr>\n",
       "<tr><td>5      </td><td>15887.0      </td><td>11 Ave & W 27 St    </td><td>625.7              </td><td>1973.80769231    </td><td>30.0               </td><td>1.38461538462 </td></tr>\n",
       "<tr><td>6      </td><td>15887.0      </td><td>11 Ave & W 41 St    </td><td>820.4              </td><td>1973.11764706    </td><td>20.0               </td><td>1.0           </td></tr>\n",
       "<tr><td>7      </td><td>15887.0      </td><td>12 Ave & W 40 St    </td><td>1000.46153846      </td><td>1976.33333333    </td><td>13.0               </td><td>1.11111111111 </td></tr>\n",
       "<tr><td>8      </td><td>15887.0      </td><td>2 Ave & E 31 St     </td><td>708.939393939      </td><td>1975.0           </td><td>33.0               </td><td>1.17857142857 </td></tr>\n",
       "<tr><td>9      </td><td>15887.0      </td><td>2 Ave & E 58 St     </td><td>938.425925926      </td><td>1972.59259259    </td><td>54.0               </td><td>1.12962962963 </td></tr>\n",
       "</table>"
      ]
     },
     "metadata": {},
     "output_type": "display_data"
    },
    {
     "data": {
      "text/html": [
       "<table>\n",
       "<tr><th>       </th><th>Days         </th><th>start station name  </th><th>mean_tripduration  </th><th>mean_birth year  </th><th>bikes        </th><th>mean_gender   </th></tr>\n",
       "<tr><td>type   </td><td>int          </td><td>enum                </td><td>real               </td><td>real             </td><td>int          </td><td>real          </td></tr>\n",
       "<tr><td>mins   </td><td>15887.0      </td><td>0.0                 </td><td>62.0               </td><td>1929.5           </td><td>1.0          </td><td>1.0           </td></tr>\n",
       "<tr><td>mean   </td><td>16099.9758008</td><td>NaN                 </td><td>897.298678074      </td><td>1975.99965771    </td><td>74.7341035897</td><td>1.23490808342 </td></tr>\n",
       "<tr><td>maxs   </td><td>16314.0      </td><td>339.0               </td><td>166694.5           </td><td>1997.0           </td><td>680.0        </td><td>2.0           </td></tr>\n",
       "<tr><td>sigma  </td><td>123.635133897</td><td>NaN                 </td><td>1358.93483261      </td><td>3.1356602598     </td><td>64.1243887565</td><td>0.107465576239</td></tr>\n",
       "<tr><td>zeros  </td><td>0            </td><td>428                 </td><td>0                  </td><td>0                </td><td>0            </td><td>0             </td></tr>\n",
       "<tr><td>missing</td><td>0            </td><td>0                   </td><td>0                  </td><td>64               </td><td>0            </td><td>64            </td></tr>\n",
       "<tr><td>0      </td><td>15887.0      </td><td>1 Ave & E 15 St     </td><td>706.85106383       </td><td>1976.05263158    </td><td>47.0         </td><td>1.15789473684 </td></tr>\n",
       "<tr><td>1      </td><td>15887.0      </td><td>1 Ave & E 18 St     </td><td>927.025            </td><td>1973.81081081    </td><td>40.0         </td><td>1.13513513514 </td></tr>\n",
       "<tr><td>2      </td><td>15887.0      </td><td>1 Ave & E 30 St     </td><td>768.857142857      </td><td>1975.28571429    </td><td>42.0         </td><td>1.14285714286 </td></tr>\n",
       "<tr><td>3      </td><td>15887.0      </td><td>1 Ave & E 44 St     </td><td>636.166666667      </td><td>1974.58333333    </td><td>12.0         </td><td>1.33333333333 </td></tr>\n",
       "<tr><td>4      </td><td>15887.0      </td><td>10 Ave & W 28 St    </td><td>761.071428571      </td><td>1975.27272727    </td><td>28.0         </td><td>1.13636363636 </td></tr>\n",
       "<tr><td>5      </td><td>15887.0      </td><td>11 Ave & W 27 St    </td><td>625.7              </td><td>1973.80769231    </td><td>30.0         </td><td>1.38461538462 </td></tr>\n",
       "<tr><td>6      </td><td>15887.0      </td><td>11 Ave & W 41 St    </td><td>820.4              </td><td>1973.11764706    </td><td>20.0         </td><td>1.0           </td></tr>\n",
       "<tr><td>7      </td><td>15887.0      </td><td>12 Ave & W 40 St    </td><td>1000.46153846      </td><td>1976.33333333    </td><td>13.0         </td><td>1.11111111111 </td></tr>\n",
       "<tr><td>8      </td><td>15887.0      </td><td>2 Ave & E 31 St     </td><td>708.939393939      </td><td>1975.0           </td><td>33.0         </td><td>1.17857142857 </td></tr>\n",
       "<tr><td>9      </td><td>15887.0      </td><td>2 Ave & E 58 St     </td><td>938.425925926      </td><td>1972.59259259    </td><td>54.0         </td><td>1.12962962963 </td></tr>\n",
       "</table>"
      ]
     },
     "metadata": {},
     "output_type": "display_data"
    },
    {
     "data": {
      "text/plain": [
       "[139261, 6]"
      ]
     },
     "execution_count": 9,
     "metadata": {},
     "output_type": "execute_result"
    }
   ],
   "source": [
    "# Convert starttime to Days since Epoch - so we can GroupBy on Day\n",
    "startime = data[\"starttime\"]\n",
    "secsPerDay=1000*60*60*24\n",
    "data[\"Days\"] = (startime/secsPerDay).floor()\n",
    "data.summary()\n",
    "# Now do a monster Group-By. Count bike starts per-station per-day.\n",
    "#Ends up with about 340 stations times 400 days (140,000 rows). This is what we want to predict.\n",
    "grouped = data.group_by([\"Days\",\"start station name\"])\n",
    "bpd = grouped.count().mean(\"tripduration\",na=\"rm\").mean(\"birth year\",na=\"rm\").mean(\"gender\",na=\"rm\").get_frame() # Compute bikes-perday\n",
    "bpd.summary()\n",
    "bpd.set_name(\"nrow_tripduration\",\"bikes\")\n",
    "bpd.summary()\n",
    "bpd.dim"
   ]
  },
  {
   "cell_type": "markdown",
   "metadata": {},
   "source": [
    "I create some new features as follow ..."
   ]
  },
  {
   "cell_type": "code",
   "execution_count": 10,
   "metadata": {
    "collapsed": true
   },
   "outputs": [],
   "source": [
    "#Add weekday \n",
    "bpd['weekday'] = bpd['Days']%7"
   ]
  },
  {
   "cell_type": "markdown",
   "metadata": {},
   "source": [
    "## Stage 4: Model the data"
   ]
  },
  {
   "cell_type": "markdown",
   "metadata": {},
   "source": [
    "I have prepared data for validation as follow:"
   ]
  },
  {
   "cell_type": "code",
   "execution_count": 11,
   "metadata": {
    "collapsed": false
   },
   "outputs": [
    {
     "name": "stdout",
     "output_type": "stream",
     "text": [
      "\n",
      "gbm Model Build Progress: [##################################################] 100%\n",
      "\n",
      "gbm Model Build Progress: [##################################################] 100%\n",
      "\n",
      "gbm Model Build Progress: [##################################################] 100%\n"
     ]
    }
   ],
   "source": [
    "# First attempt at a Model: Bad example because there is no valation \n",
    "bike_names_x = bpd.names\n",
    "bike_names_x.remove(\"bikes\")\n",
    "gbm0 = h2o.H2OGradientBoostingEstimator().train(x=bike_names_x, y =\"bikes\", training_frame =bpd)\n",
    "\n",
    "# Now test/train split; train on first 70%; test on last 30%: Bad example the validation is not random\n",
    "train = bpd[bpd['Days']< 16187 ]\n",
    "test = bpd[bpd['Days']>=16187 ]\n",
    "gbm1 = h2o.H2OGradientBoostingEstimator()\n",
    "gbm1.train(x=bike_names_x, y =\"bikes\", training_frame=train, validation_frame=test)\n",
    "\n",
    "# Now test/train split by random selection: Good example\n",
    "r = bpd['Days'].runif() # Random UNIForm numbers, one per row\n",
    "train = bpd[ r < 0.7]\n",
    "test = bpd[0.7 <= r]\n",
    "gbm2 = h2o.H2OGradientBoostingEstimator()\n",
    "gbm2.train(x=bike_names_x, y =\"bikes\", training_frame=train, validation_frame=test)"
   ]
  },
  {
   "cell_type": "markdown",
   "metadata": {},
   "source": [
    "Here four models are used: GBM (Gradient Boost Method) DRF (Distributed Random Forest) GLM (Generalized Linear Model) and Deep Learning."
   ]
  },
  {
   "cell_type": "code",
   "execution_count": 12,
   "metadata": {
    "collapsed": true
   },
   "outputs": [],
   "source": [
    "def split_fit_predict(data):\n",
    "    global gbm0,drf0,glm0,dl0\n",
    "    # Classic Test/Train split\n",
    "    r = data['Days'].runif() # Random UNIForm numbers, one per row\n",
    "    train = data[ r < 0.7]\n",
    "    test = data[0.7 <= r]\n",
    "    print(\"Training data has\",train.ncol,\"columns and\",train.nrow,\"rows, test has\",test.nrow,\"rows\")\n",
    "    bike_names_x = data.names\n",
    "    if \"bikes\" in bike_names_x: bike_names_x.remove(\"bikes\")\n",
    "\n",
    "    # Run GBM\n",
    "    s = time.time()\n",
    "    gbm0 = h2o.H2OGradientBoostingEstimator(ntrees=400, max_depth=6, learn_rate=0.1)\n",
    "    gbm0.train(x=bike_names_x,y=\"bikes\",training_frame =train,validation_frame=test)\n",
    "    gbm_elapsed = time.time() - s #measure elapse time\n",
    "\n",
    "    # Run DRF\n",
    "    s = time.time()\n",
    "    drf0 = h2o.H2ORandomForestEstimator(ntrees=100, max_depth=30)\n",
    "    drf0.train(x=bike_names_x,y=\"bikes\",training_frame =train,validation_frame=test)\n",
    "    drf_elapsed = time.time() - s\n",
    "\n",
    "    # Run GLM\n",
    "    if \"WC1\" in bike_names_x: bike_names_x.remove(\"WC1\")\n",
    "    s = time.time()\n",
    "    glm0 = h2o.H2OGeneralizedLinearEstimator(Lambda=[1e-5], family=\"poisson\")\n",
    "    glm0.train(x=bike_names_x,y=\"bikes\",training_frame =train,validation_frame=test)\n",
    "    glm_elapsed = time.time() - s\n",
    "\n",
    "    # Run DL\n",
    "    s = time.time()\n",
    "    dl0 = h2o.H2ODeepLearningEstimator(hidden=[50,50,50,50], epochs=6)\n",
    "    dl0.train(x=bike_names_x,y=\"bikes\",training_frame =train,validation_frame=test)\n",
    "    dl_elapsed = time.time() - s\n",
    "\n",
    "    # ----------\n",
    "    # Score & report\n",
    "    header = [\"Model\", \"R2 TRAIN\", \"R2 TEST\", \"Model Training Time (s)\"]\n",
    "    table = [\n",
    "     [\"GBM\", gbm0.r2(train=True), gbm0.r2(valid=True),\n",
    "    round(gbm_elapsed,3)],\n",
    "     [\"DRF\", drf0.r2(train=True), drf0.r2(valid=True),\n",
    "    round(drf_elapsed,3)],\n",
    "     [\"GLM\", glm0.r2(train=True), glm0.r2(valid=True),\n",
    "    round(glm_elapsed,3)],\n",
    "     [\"DL \", dl0 .r2(train=True), dl0 .r2(valid=True),\n",
    "    round( dl_elapsed,3)],\n",
    "    ]\n",
    "    h2o.display.H2ODisplay(table,header)\n",
    "    # --------\n"
   ]
  },
  {
   "cell_type": "code",
   "execution_count": 13,
   "metadata": {
    "collapsed": false
   },
   "outputs": [
    {
     "name": "stdout",
     "output_type": "stream",
     "text": [
      "('Training data has', 7, 'columns and', 97390, 'rows, test has', 41871, 'rows')\n",
      "\n",
      "gbm Model Build Progress: [##################################################] 100%\n",
      "\n",
      "drf Model Build Progress: [##################################################] 100%\n",
      "\n",
      "glm Model Build Progress: [##################################################] 100%\n",
      "\n",
      "deeplearning Model Build Progress: [##################################################] 100%\n"
     ]
    },
    {
     "data": {
      "text/html": [
       "<div style=\"overflow:auto\"><table style=\"width:50%\"><tr><td><b>Model</b></td>\n",
       "<td><b>R2 TRAIN</b></td>\n",
       "<td><b>R2 TEST</b></td>\n",
       "<td><b>Model Training Time (s)</b></td></tr>\n",
       "<tr><td>GBM</td>\n",
       "<td>0.9608841</td>\n",
       "<td>0.9258335</td>\n",
       "<td>31.555</td></tr>\n",
       "<tr><td>DRF</td>\n",
       "<td>0.8794651</td>\n",
       "<td>0.8876446</td>\n",
       "<td>98.654</td></tr>\n",
       "<tr><td>GLM</td>\n",
       "<td>0.5402835</td>\n",
       "<td>0.5430230</td>\n",
       "<td>1.218</td></tr>\n",
       "<tr><td>DL </td>\n",
       "<td>0.8517503</td>\n",
       "<td>0.8565373</td>\n",
       "<td>36.067</td></tr></table></div>"
      ],
      "text/plain": [
       "Model      R2 TRAIN    R2 TEST    Model Training Time (s)\n",
       "-------  ----------  ---------  -------------------------\n",
       "GBM        0.960884   0.925833                     31.555\n",
       "DRF        0.879465   0.887645                     98.654\n",
       "GLM        0.540284   0.543023                      1.218\n",
       "DL         0.85175    0.856537                     36.067"
      ]
     },
     "metadata": {},
     "output_type": "display_data"
    }
   ],
   "source": [
    "# Split the data (into test & train), fit some models and look at the results\n",
    "split_fit_predict(bpd)\n",
    "# Explore (in Flow) the 4 models - training time, quality of fit, tendency to overfit\n"
   ]
  },
  {
   "cell_type": "code",
   "execution_count": 14,
   "metadata": {
    "collapsed": false
   },
   "outputs": [
    {
     "name": "stdout",
     "output_type": "stream",
     "text": [
      "\n",
      "Parse Progress: [##################################################] 100%\n"
     ]
    },
    {
     "data": {
      "text/html": [
       "<table>\n",
       "<tr><th>       </th><th>Year Local    </th><th>Month Local  </th><th>Day Local    </th><th>Hour Local   </th><th>Year UTC      </th><th>Month UTC    </th><th>Day UTC      </th><th>Hour UTC     </th><th>Cavok Reported  </th><th>Cloud Ceiling (m)  </th><th>Cloud Cover Fraction  </th><th>Cloud Cover Fraction 1  </th><th>Cloud Cover Fraction 2  </th><th>Cloud Cover Fraction 3  </th><th>Cloud Cover Fraction 4  </th><th>Cloud Cover Fraction 5  </th><th>Cloud Cover Fraction 6  </th><th>Cloud Height (m) 1  </th><th>Cloud Height (m) 2  </th><th>Cloud Height (m) 3  </th><th>Cloud Height (m) 4  </th><th>Cloud Height (m) 5  </th><th>Cloud Height (m) 6  </th><th>Dew Point (C)  </th><th>Humidity Fraction  </th><th>Precipitation One Hour (mm)  </th><th>Pressure Altimeter (mbar)  </th><th>Pressure Sea Level (mbar)  </th><th>Pressure Station (mbar)  </th><th>Snow Depth (cm)  </th><th>Temperature (C)  </th><th>Visibility (km)  </th><th>Weather Code 1  </th><th>Weather Code 1/ Description  </th><th>Weather Code 2  </th><th>Weather Code 2/ Description  </th><th>Weather Code 3  </th><th>Weather Code 3/ Description  </th><th>Weather Code 4  </th><th>Weather Code 4/ Description  </th><th>Weather Code 5  </th><th>Weather Code 5/ Description  </th><th>Weather Code 6  </th><th>Weather Code 6/ Description  </th><th>Weather Code Most Severe / Icon Code  </th><th>Weather Code Most Severe  </th><th>Weather Code Most Severe / Description  </th><th>Wind Direction (degrees)  </th><th>Wind Gust (m/s)  </th><th>Wind Speed (m/s)  </th></tr>\n",
       "<tr><td>type   </td><td>int           </td><td>int          </td><td>int          </td><td>int          </td><td>int           </td><td>int          </td><td>int          </td><td>int          </td><td>int             </td><td>real               </td><td>real                  </td><td>real                    </td><td>real                    </td><td>real                    </td><td>int                     </td><td>int                     </td><td>int                     </td><td>real                </td><td>real                </td><td>real                </td><td>int                 </td><td>int                 </td><td>int                 </td><td>real           </td><td>real               </td><td>real                         </td><td>real                       </td><td>int                        </td><td>int                      </td><td>int              </td><td>real             </td><td>real             </td><td>int             </td><td>enum                         </td><td>int             </td><td>enum                         </td><td>int             </td><td>enum                         </td><td>int             </td><td>enum                         </td><td>int             </td><td>enum                         </td><td>int             </td><td>enum                         </td><td>int                                   </td><td>int                       </td><td>enum                                    </td><td>int                       </td><td>real             </td><td>real              </td></tr>\n",
       "<tr><td>mins   </td><td>2013.0        </td><td>1.0          </td><td>1.0          </td><td>0.0          </td><td>2013.0        </td><td>1.0          </td><td>1.0          </td><td>0.0          </td><td>0.0             </td><td>61.0               </td><td>0.0                   </td><td>0.0                     </td><td>0.25                    </td><td>0.5                     </td><td>NaN                     </td><td>NaN                     </td><td>NaN                     </td><td>60.96               </td><td>213.36              </td><td>365.76              </td><td>NaN                 </td><td>NaN                 </td><td>NaN                 </td><td>-26.7          </td><td>0.1251             </td><td>0.0                          </td><td>983.2949                   </td><td>NaN                        </td><td>NaN                      </td><td>NaN              </td><td>-15.6            </td><td>0.001            </td><td>1.0             </td><td>0.0                          </td><td>1.0             </td><td>0.0                          </td><td>1.0             </td><td>0.0                          </td><td>1.0             </td><td>0.0                          </td><td>1.0             </td><td>0.0                          </td><td>3.0             </td><td>0.0                          </td><td>0.0                                   </td><td>1.0                       </td><td>0.0                                     </td><td>10.0                      </td><td>7.2              </td><td>0.0               </td></tr>\n",
       "<tr><td>mean   </td><td>2013.5        </td><td>6.52602739726</td><td>15.7205479452</td><td>11.5         </td><td>2013.50057078 </td><td>6.52511415525</td><td>15.721347032 </td><td>11.5001141553</td><td>0.0             </td><td>1306.31195846      </td><td>0.416742490522        </td><td>0.361207349081          </td><td>0.872445384073          </td><td>0.963045685279          </td><td>0.0                     </td><td>0.0                     </td><td>0.0                     </td><td>1293.9822682        </td><td>1643.73900166       </td><td>2084.89386376       </td><td>0.0                 </td><td>0.0                 </td><td>0.0                 </td><td>4.31304646766  </td><td>0.596736389159     </td><td>1.37993010753                </td><td>1017.82581441              </td><td>0.0                        </td><td>0.0                      </td><td>0.0              </td><td>12.5789090701    </td><td>14.3914429682    </td><td>4.84251968504   </td><td>NaN                          </td><td>3.65867689358   </td><td>NaN                          </td><td>2.84660766962   </td><td>NaN                          </td><td>2.01149425287   </td><td>NaN                          </td><td>4.125           </td><td>NaN                          </td><td>3.0             </td><td>0.0                          </td><td>1.37848173516                         </td><td>4.84251968504             </td><td>NaN                                     </td><td>194.69525682              </td><td>9.42216948073    </td><td>2.41032887849     </td></tr>\n",
       "<tr><td>maxs   </td><td>2014.0        </td><td>12.0         </td><td>31.0         </td><td>23.0         </td><td>2015.0        </td><td>12.0         </td><td>31.0         </td><td>23.0         </td><td>0.0             </td><td>3657.6             </td><td>1.0                   </td><td>1.0                     </td><td>1.0                     </td><td>1.0                     </td><td>NaN                     </td><td>NaN                     </td><td>NaN                     </td><td>3657.5999           </td><td>3657.5999           </td><td>3657.5999           </td><td>NaN                 </td><td>NaN                 </td><td>NaN                 </td><td>24.4           </td><td>1.0                </td><td>26.924                       </td><td>1042.2113                  </td><td>NaN                        </td><td>NaN                      </td><td>NaN              </td><td>36.1             </td><td>16.0934          </td><td>60.0            </td><td>11.0                         </td><td>60.0            </td><td>10.0                         </td><td>36.0            </td><td>7.0                          </td><td>27.0            </td><td>4.0                          </td><td>27.0            </td><td>2.0                          </td><td>3.0             </td><td>0.0                          </td><td>16.0                                  </td><td>60.0                      </td><td>11.0                                    </td><td>360.0                     </td><td>20.58            </td><td>10.8              </td></tr>\n",
       "<tr><td>sigma  </td><td>0.500014270017</td><td>3.44794972385</td><td>8.79649804852</td><td>6.92238411188</td><td>0.500584411716</td><td>3.44782405458</td><td>8.79561488868</td><td>6.92230165203</td><td>0.0             </td><td>995.339856966      </td><td>0.462720830993        </td><td>0.42770569708           </td><td>0.197155690367          </td><td>0.0861015598104         </td><td>-0.0                    </td><td>-0.0                    </td><td>-0.0                    </td><td>962.743095854       </td><td>916.73861349        </td><td>887.215847511       </td><td>-0.0                </td><td>-0.0                </td><td>-0.0                </td><td>10.9731282097  </td><td>0.185792011866     </td><td>2.56215129179                </td><td>7.46451697179              </td><td>-0.0                       </td><td>-0.0                     </td><td>-0.0             </td><td>10.0396739531    </td><td>3.69893623033    </td><td>5.70486576983   </td><td>NaN                          </td><td>6.13386253912   </td><td>NaN                          </td><td>5.80553286364   </td><td>NaN                          </td><td>3.12340844261   </td><td>NaN                          </td><td>6.15223536611   </td><td>NaN                          </td><td>0.0             </td><td>0.0                          </td><td>4.07386062702                         </td><td>5.70486576983             </td><td>NaN                                     </td><td>106.350000031             </td><td>1.81511871115    </td><td>1.61469790524     </td></tr>\n",
       "<tr><td>zeros  </td><td>0             </td><td>0            </td><td>0            </td><td>730          </td><td>0             </td><td>0            </td><td>0            </td><td>730          </td><td>17455           </td><td>0                  </td><td>8758                  </td><td>8758                    </td><td>0                       </td><td>0                       </td><td>0                       </td><td>0                       </td><td>0                       </td><td>0                   </td><td>0                   </td><td>0                   </td><td>0                   </td><td>0                   </td><td>0                   </td><td>268            </td><td>0                  </td><td>501                          </td><td>0                          </td><td>0                          </td><td>0                        </td><td>0                </td><td>269              </td><td>0                </td><td>0               </td><td>17                           </td><td>0               </td><td>30                           </td><td>0               </td><td>13                           </td><td>0               </td><td>20                           </td><td>0               </td><td>12                           </td><td>0               </td><td>2                            </td><td>14980                                 </td><td>0                         </td><td>17                                      </td><td>0                         </td><td>0                </td><td>2768              </td></tr>\n",
       "<tr><td>missing</td><td>0             </td><td>0            </td><td>0            </td><td>0            </td><td>0             </td><td>0            </td><td>0            </td><td>0            </td><td>65              </td><td>10780              </td><td>375                   </td><td>375                     </td><td>14682                   </td><td>16535                   </td><td>17520                   </td><td>17520                   </td><td>17520                   </td><td>9103                </td><td>14683               </td><td>16535               </td><td>17520               </td><td>17520               </td><td>17520               </td><td>67             </td><td>67                 </td><td>15660                        </td><td>360                        </td><td>17520                      </td><td>17520                    </td><td>17520            </td><td>67               </td><td>412              </td><td>14980           </td><td>14980                        </td><td>16477           </td><td>16477                        </td><td>17181           </td><td>17181                        </td><td>17433           </td><td>17433                        </td><td>17504           </td><td>17504                        </td><td>17518           </td><td>17518                        </td><td>0                                     </td><td>14980                     </td><td>14980                                   </td><td>9382                      </td><td>14381            </td><td>1283              </td></tr>\n",
       "<tr><td>0      </td><td>2013.0        </td><td>1.0          </td><td>1.0          </td><td>0.0          </td><td>2013.0        </td><td>1.0          </td><td>1.0          </td><td>5.0          </td><td>0.0             </td><td>2895.6             </td><td>1.0                   </td><td>0.9                     </td><td>1.0                     </td><td>nan                     </td><td>nan                     </td><td>nan                     </td><td>nan                     </td><td>2895.5999           </td><td>3352.8              </td><td>nan                 </td><td>nan                 </td><td>nan                 </td><td>nan                 </td><td>-5.0           </td><td>0.5447             </td><td>nan                          </td><td>1013.0917                  </td><td>nan                        </td><td>nan                      </td><td>nan              </td><td>3.3              </td><td>16.0934          </td><td>nan             </td><td>                             </td><td>nan             </td><td>                             </td><td>nan             </td><td>                             </td><td>nan             </td><td>                             </td><td>nan             </td><td>                             </td><td>nan             </td><td>                             </td><td>0.0                                   </td><td>nan                       </td><td>                                        </td><td>nan                       </td><td>nan              </td><td>2.57              </td></tr>\n",
       "<tr><td>1      </td><td>2013.0        </td><td>1.0          </td><td>1.0          </td><td>1.0          </td><td>2013.0        </td><td>1.0          </td><td>1.0          </td><td>6.0          </td><td>0.0             </td><td>3048.0             </td><td>1.0                   </td><td>1.0                     </td><td>nan                     </td><td>nan                     </td><td>nan                     </td><td>nan                     </td><td>nan                     </td><td>3048.0              </td><td>nan                 </td><td>nan                 </td><td>nan                 </td><td>nan                 </td><td>nan                 </td><td>-4.4           </td><td>0.5463             </td><td>nan                          </td><td>1012.0759                  </td><td>nan                        </td><td>nan                      </td><td>nan              </td><td>3.9              </td><td>16.0934          </td><td>nan             </td><td>                             </td><td>nan             </td><td>                             </td><td>nan             </td><td>                             </td><td>nan             </td><td>                             </td><td>nan             </td><td>                             </td><td>nan             </td><td>                             </td><td>0.0                                   </td><td>nan                       </td><td>                                        </td><td>260.0                     </td><td>9.77             </td><td>4.63              </td></tr>\n",
       "<tr><td>2      </td><td>2013.0        </td><td>1.0          </td><td>1.0          </td><td>2.0          </td><td>2013.0        </td><td>1.0          </td><td>1.0          </td><td>7.0          </td><td>0.0             </td><td>1828.8             </td><td>1.0                   </td><td>1.0                     </td><td>nan                     </td><td>nan                     </td><td>nan                     </td><td>nan                     </td><td>nan                     </td><td>1828.7999           </td><td>nan                 </td><td>nan                 </td><td>nan                 </td><td>nan                 </td><td>nan                 </td><td>-3.3           </td><td>0.619              </td><td>nan                          </td><td>1012.4145                  </td><td>nan                        </td><td>nan                      </td><td>nan              </td><td>3.3              </td><td>16.0934          </td><td>nan             </td><td>                             </td><td>nan             </td><td>                             </td><td>nan             </td><td>                             </td><td>nan             </td><td>                             </td><td>nan             </td><td>                             </td><td>nan             </td><td>                             </td><td>0.0                                   </td><td>nan                       </td><td>                                        </td><td>nan                       </td><td>7.72             </td><td>1.54              </td></tr>\n",
       "<tr><td>3      </td><td>2013.0        </td><td>1.0          </td><td>1.0          </td><td>3.0          </td><td>2013.0        </td><td>1.0          </td><td>1.0          </td><td>8.0          </td><td>0.0             </td><td>1463.0             </td><td>1.0                   </td><td>1.0                     </td><td>nan                     </td><td>nan                     </td><td>nan                     </td><td>nan                     </td><td>nan                     </td><td>1463.04             </td><td>nan                 </td><td>nan                 </td><td>nan                 </td><td>nan                 </td><td>nan                 </td><td>-2.8           </td><td>0.6159             </td><td>nan                          </td><td>1012.4145                  </td><td>nan                        </td><td>nan                      </td><td>nan              </td><td>3.9              </td><td>16.0934          </td><td>nan             </td><td>                             </td><td>nan             </td><td>                             </td><td>nan             </td><td>                             </td><td>nan             </td><td>                             </td><td>nan             </td><td>                             </td><td>nan             </td><td>                             </td><td>0.0                                   </td><td>nan                       </td><td>                                        </td><td>nan                       </td><td>nan              </td><td>3.09              </td></tr>\n",
       "<tr><td>4      </td><td>2013.0        </td><td>1.0          </td><td>1.0          </td><td>4.0          </td><td>2013.0        </td><td>1.0          </td><td>1.0          </td><td>9.0          </td><td>0.0             </td><td>1402.1             </td><td>1.0                   </td><td>1.0                     </td><td>nan                     </td><td>nan                     </td><td>nan                     </td><td>nan                     </td><td>nan                     </td><td>1402.08             </td><td>nan                 </td><td>nan                 </td><td>nan                 </td><td>nan                 </td><td>nan                 </td><td>-2.8           </td><td>0.6159             </td><td>nan                          </td><td>1012.7531                  </td><td>nan                        </td><td>nan                      </td><td>nan              </td><td>3.9              </td><td>16.0934          </td><td>nan             </td><td>                             </td><td>nan             </td><td>                             </td><td>nan             </td><td>                             </td><td>nan             </td><td>                             </td><td>nan             </td><td>                             </td><td>nan             </td><td>                             </td><td>0.0                                   </td><td>nan                       </td><td>                                        </td><td>260.0                     </td><td>nan              </td><td>4.12              </td></tr>\n",
       "<tr><td>5      </td><td>2013.0        </td><td>1.0          </td><td>1.0          </td><td>5.0          </td><td>2013.0        </td><td>1.0          </td><td>1.0          </td><td>10.0         </td><td>0.0             </td><td>1524.0             </td><td>1.0                   </td><td>1.0                     </td><td>nan                     </td><td>nan                     </td><td>nan                     </td><td>nan                     </td><td>nan                     </td><td>1524.0              </td><td>nan                 </td><td>nan                 </td><td>nan                 </td><td>nan                 </td><td>nan                 </td><td>-2.8           </td><td>0.6159             </td><td>nan                          </td><td>1012.4145                  </td><td>nan                        </td><td>nan                      </td><td>nan              </td><td>3.9              </td><td>16.0934          </td><td>nan             </td><td>                             </td><td>nan             </td><td>                             </td><td>nan             </td><td>                             </td><td>nan             </td><td>                             </td><td>nan             </td><td>                             </td><td>nan             </td><td>                             </td><td>0.0                                   </td><td>nan                       </td><td>                                        </td><td>nan                       </td><td>nan              </td><td>3.09              </td></tr>\n",
       "<tr><td>6      </td><td>2013.0        </td><td>1.0          </td><td>1.0          </td><td>6.0          </td><td>2013.0        </td><td>1.0          </td><td>1.0          </td><td>11.0         </td><td>0.0             </td><td>1524.0             </td><td>1.0                   </td><td>1.0                     </td><td>nan                     </td><td>nan                     </td><td>nan                     </td><td>nan                     </td><td>nan                     </td><td>1524.0              </td><td>nan                 </td><td>nan                 </td><td>nan                 </td><td>nan                 </td><td>nan                 </td><td>-3.3           </td><td>0.5934             </td><td>nan                          </td><td>1012.0759                  </td><td>nan                        </td><td>nan                      </td><td>nan              </td><td>3.9              </td><td>16.0934          </td><td>nan             </td><td>                             </td><td>nan             </td><td>                             </td><td>nan             </td><td>                             </td><td>nan             </td><td>                             </td><td>nan             </td><td>                             </td><td>nan             </td><td>                             </td><td>0.0                                   </td><td>nan                       </td><td>                                        </td><td>nan                       </td><td>9.26             </td><td>3.09              </td></tr>\n",
       "<tr><td>7      </td><td>2013.0        </td><td>1.0          </td><td>1.0          </td><td>7.0          </td><td>2013.0        </td><td>1.0          </td><td>1.0          </td><td>12.0         </td><td>0.0             </td><td>1524.0             </td><td>1.0                   </td><td>1.0                     </td><td>nan                     </td><td>nan                     </td><td>nan                     </td><td>nan                     </td><td>nan                     </td><td>1524.0              </td><td>nan                 </td><td>nan                 </td><td>nan                 </td><td>nan                 </td><td>nan                 </td><td>-3.3           </td><td>0.5934             </td><td>nan                          </td><td>1012.4145                  </td><td>nan                        </td><td>nan                      </td><td>nan              </td><td>3.9              </td><td>16.0934          </td><td>nan             </td><td>                             </td><td>nan             </td><td>                             </td><td>nan             </td><td>                             </td><td>nan             </td><td>                             </td><td>nan             </td><td>                             </td><td>nan             </td><td>                             </td><td>0.0                                   </td><td>nan                       </td><td>                                        </td><td>260.0                     </td><td>9.26             </td><td>4.63              </td></tr>\n",
       "<tr><td>8      </td><td>2013.0        </td><td>1.0          </td><td>1.0          </td><td>8.0          </td><td>2013.0        </td><td>1.0          </td><td>1.0          </td><td>13.0         </td><td>0.0             </td><td>1524.0             </td><td>1.0                   </td><td>1.0                     </td><td>nan                     </td><td>nan                     </td><td>nan                     </td><td>nan                     </td><td>nan                     </td><td>1524.0              </td><td>nan                 </td><td>nan                 </td><td>nan                 </td><td>nan                 </td><td>nan                 </td><td>-2.8           </td><td>0.6425             </td><td>nan                          </td><td>1012.4145                  </td><td>nan                        </td><td>nan                      </td><td>nan              </td><td>3.3              </td><td>16.0934          </td><td>nan             </td><td>                             </td><td>nan             </td><td>                             </td><td>nan             </td><td>                             </td><td>nan             </td><td>                             </td><td>nan             </td><td>                             </td><td>nan             </td><td>                             </td><td>0.0                                   </td><td>nan                       </td><td>                                        </td><td>260.0                     </td><td>nan              </td><td>3.09              </td></tr>\n",
       "<tr><td>9      </td><td>2013.0        </td><td>1.0          </td><td>1.0          </td><td>9.0          </td><td>2013.0        </td><td>1.0          </td><td>1.0          </td><td>14.0         </td><td>0.0             </td><td>1524.0             </td><td>1.0                   </td><td>0.9                     </td><td>1.0                     </td><td>nan                     </td><td>nan                     </td><td>nan                     </td><td>nan                     </td><td>1524.0              </td><td>3657.5999           </td><td>nan                 </td><td>nan                 </td><td>nan                 </td><td>nan                 </td><td>-2.8           </td><td>0.6159             </td><td>nan                          </td><td>1012.4145                  </td><td>nan                        </td><td>nan                      </td><td>nan              </td><td>3.9              </td><td>16.0934          </td><td>nan             </td><td>                             </td><td>nan             </td><td>                             </td><td>nan             </td><td>                             </td><td>nan             </td><td>                             </td><td>nan             </td><td>                             </td><td>nan             </td><td>                             </td><td>0.0                                   </td><td>nan                       </td><td>                                        </td><td>nan                       </td><td>9.26             </td><td>3.09              </td></tr>\n",
       "</table>"
      ]
     },
     "metadata": {},
     "output_type": "display_data"
    },
    {
     "data": {
      "text/html": [
       "<table>\n",
       "<tr><th>       </th><th>Year Local    </th><th>Month Local  </th><th>Day Local    </th><th>Hour Local   </th><th>Dew Point (C)  </th><th>Humidity Fraction  </th><th>Rain (mm)    </th><th>Temperature (C)  </th><th>WC1  </th></tr>\n",
       "<tr><td>type   </td><td>int           </td><td>int          </td><td>int          </td><td>int          </td><td>real           </td><td>real               </td><td>real         </td><td>real             </td><td>enum </td></tr>\n",
       "<tr><td>mins   </td><td>2013.0        </td><td>1.0          </td><td>1.0          </td><td>0.0          </td><td>-26.7          </td><td>0.1251             </td><td>0.0          </td><td>-15.6            </td><td>0.0  </td></tr>\n",
       "<tr><td>mean   </td><td>2013.5        </td><td>6.52602739726</td><td>15.7205479452</td><td>11.5         </td><td>4.31304646766  </td><td>0.596736389159     </td><td>1.37993010753</td><td>12.5789090701    </td><td>NaN  </td></tr>\n",
       "<tr><td>maxs   </td><td>2014.0        </td><td>12.0         </td><td>31.0         </td><td>23.0         </td><td>24.4           </td><td>1.0                </td><td>26.924       </td><td>36.1             </td><td>11.0 </td></tr>\n",
       "<tr><td>sigma  </td><td>0.500014270017</td><td>3.44794972385</td><td>8.79649804852</td><td>6.92238411188</td><td>10.9731282097  </td><td>0.185792011866     </td><td>2.56215129179</td><td>10.0396739531    </td><td>NaN  </td></tr>\n",
       "<tr><td>zeros  </td><td>0             </td><td>0            </td><td>0            </td><td>730          </td><td>268            </td><td>0                  </td><td>501          </td><td>269              </td><td>17   </td></tr>\n",
       "<tr><td>missing</td><td>0             </td><td>0            </td><td>0            </td><td>0            </td><td>67             </td><td>67                 </td><td>15660        </td><td>67               </td><td>14980</td></tr>\n",
       "<tr><td>0      </td><td>2013.0        </td><td>1.0          </td><td>1.0          </td><td>0.0          </td><td>-5.0           </td><td>0.5447             </td><td>nan          </td><td>3.3              </td><td>     </td></tr>\n",
       "<tr><td>1      </td><td>2013.0        </td><td>1.0          </td><td>1.0          </td><td>1.0          </td><td>-4.4           </td><td>0.5463             </td><td>nan          </td><td>3.9              </td><td>     </td></tr>\n",
       "<tr><td>2      </td><td>2013.0        </td><td>1.0          </td><td>1.0          </td><td>2.0          </td><td>-3.3           </td><td>0.619              </td><td>nan          </td><td>3.3              </td><td>     </td></tr>\n",
       "<tr><td>3      </td><td>2013.0        </td><td>1.0          </td><td>1.0          </td><td>3.0          </td><td>-2.8           </td><td>0.6159             </td><td>nan          </td><td>3.9              </td><td>     </td></tr>\n",
       "<tr><td>4      </td><td>2013.0        </td><td>1.0          </td><td>1.0          </td><td>4.0          </td><td>-2.8           </td><td>0.6159             </td><td>nan          </td><td>3.9              </td><td>     </td></tr>\n",
       "<tr><td>5      </td><td>2013.0        </td><td>1.0          </td><td>1.0          </td><td>5.0          </td><td>-2.8           </td><td>0.6159             </td><td>nan          </td><td>3.9              </td><td>     </td></tr>\n",
       "<tr><td>6      </td><td>2013.0        </td><td>1.0          </td><td>1.0          </td><td>6.0          </td><td>-3.3           </td><td>0.5934             </td><td>nan          </td><td>3.9              </td><td>     </td></tr>\n",
       "<tr><td>7      </td><td>2013.0        </td><td>1.0          </td><td>1.0          </td><td>7.0          </td><td>-3.3           </td><td>0.5934             </td><td>nan          </td><td>3.9              </td><td>     </td></tr>\n",
       "<tr><td>8      </td><td>2013.0        </td><td>1.0          </td><td>1.0          </td><td>8.0          </td><td>-2.8           </td><td>0.6425             </td><td>nan          </td><td>3.3              </td><td>     </td></tr>\n",
       "<tr><td>9      </td><td>2013.0        </td><td>1.0          </td><td>1.0          </td><td>9.0          </td><td>-2.8           </td><td>0.6159             </td><td>nan          </td><td>3.9              </td><td>     </td></tr>\n",
       "</table>"
      ]
     },
     "metadata": {},
     "output_type": "display_data"
    },
    {
     "data": {
      "text/html": [
       "<table>\n",
       "<tr><th>       </th><th>Year Local    </th><th>Month Local  </th><th>Day Local    </th><th>Hour Local  </th><th>Dew Point (C)  </th><th>Humidity Fraction  </th><th>Rain (mm)    </th><th>Temperature (C)  </th><th>WC1  </th><th>msec            </th><th>Days         </th></tr>\n",
       "<tr><td>type   </td><td>int           </td><td>int          </td><td>int          </td><td>int         </td><td>real           </td><td>real               </td><td>real         </td><td>real             </td><td>enum </td><td>int             </td><td>int          </td></tr>\n",
       "<tr><td>mins   </td><td>2013.0        </td><td>1.0          </td><td>1.0          </td><td>12.0        </td><td>-26.7          </td><td>0.1723             </td><td>0.0          </td><td>-13.9            </td><td>0.0  </td><td>1.3570704e+12   </td><td>15706.0      </td></tr>\n",
       "<tr><td>mean   </td><td>2013.5        </td><td>6.52602739726</td><td>15.7205479452</td><td>12.0        </td><td>4.23012379642  </td><td>0.539728198074     </td><td>1.53125714286</td><td>14.0687757909    </td><td>NaN  </td><td>1.3885608526e+12</td><td>16070.5      </td></tr>\n",
       "<tr><td>maxs   </td><td>2014.0        </td><td>12.0         </td><td>31.0         </td><td>12.0        </td><td>23.3           </td><td>1.0                </td><td>12.446       </td><td>34.4             </td><td>10.0 </td><td>1.420056e+12    </td><td>16435.0      </td></tr>\n",
       "<tr><td>sigma  </td><td>0.500342818004</td><td>3.45021529307</td><td>8.80227802701</td><td>0.0         </td><td>11.1062964725  </td><td>0.179945027923     </td><td>2.36064248615</td><td>10.3989855149    </td><td>NaN  </td><td>18219740080.4   </td><td>210.877136425</td></tr>\n",
       "<tr><td>zeros  </td><td>0             </td><td>0            </td><td>0            </td><td>0           </td><td>14             </td><td>0                  </td><td>15           </td><td>7                </td><td>1    </td><td>0               </td><td>0            </td></tr>\n",
       "<tr><td>missing</td><td>0             </td><td>0            </td><td>0            </td><td>0           </td><td>3              </td><td>3                  </td><td>660          </td><td>3                </td><td>620  </td><td>0               </td><td>0            </td></tr>\n",
       "<tr><td>0      </td><td>2013.0        </td><td>1.0          </td><td>1.0          </td><td>12.0        </td><td>-3.3           </td><td>0.5934             </td><td>nan          </td><td>3.9              </td><td>     </td><td>1.3570704e+12   </td><td>15706.0      </td></tr>\n",
       "<tr><td>1      </td><td>2013.0        </td><td>1.0          </td><td>2.0          </td><td>12.0        </td><td>-11.7          </td><td>0.4806             </td><td>nan          </td><td>-2.2             </td><td>     </td><td>1.3571568e+12   </td><td>15707.0      </td></tr>\n",
       "<tr><td>2      </td><td>2013.0        </td><td>1.0          </td><td>3.0          </td><td>12.0        </td><td>-10.6          </td><td>0.5248             </td><td>nan          </td><td>-2.2             </td><td>     </td><td>1.3572432e+12   </td><td>15708.0      </td></tr>\n",
       "<tr><td>3      </td><td>2013.0        </td><td>1.0          </td><td>4.0          </td><td>12.0        </td><td>-7.2           </td><td>0.4976             </td><td>nan          </td><td>2.2              </td><td>     </td><td>1.3573296e+12   </td><td>15709.0      </td></tr>\n",
       "<tr><td>4      </td><td>2013.0        </td><td>1.0          </td><td>5.0          </td><td>12.0        </td><td>-7.2           </td><td>0.426              </td><td>nan          </td><td>4.4              </td><td>     </td><td>1.357416e+12    </td><td>15710.0      </td></tr>\n",
       "<tr><td>5      </td><td>2013.0        </td><td>1.0          </td><td>6.0          </td><td>12.0        </td><td>-1.7           </td><td>0.6451             </td><td>nan          </td><td>4.4              </td><td>haze </td><td>1.3575024e+12   </td><td>15711.0      </td></tr>\n",
       "<tr><td>6      </td><td>2013.0        </td><td>1.0          </td><td>7.0          </td><td>12.0        </td><td>-6.1           </td><td>0.4119             </td><td>nan          </td><td>6.1              </td><td>     </td><td>1.3575888e+12   </td><td>15712.0      </td></tr>\n",
       "<tr><td>7      </td><td>2013.0        </td><td>1.0          </td><td>8.0          </td><td>12.0        </td><td>-1.7           </td><td>0.5314             </td><td>nan          </td><td>7.2              </td><td>     </td><td>1.3576752e+12   </td><td>15713.0      </td></tr>\n",
       "<tr><td>8      </td><td>2013.0        </td><td>1.0          </td><td>9.0          </td><td>12.0        </td><td>0.6            </td><td>0.56               </td><td>nan          </td><td>8.9              </td><td>haze </td><td>1.3577616e+12   </td><td>15714.0      </td></tr>\n",
       "<tr><td>9      </td><td>2013.0        </td><td>1.0          </td><td>10.0         </td><td>12.0        </td><td>-6.1           </td><td>0.3952             </td><td>nan          </td><td>6.7              </td><td>     </td><td>1.357848e+12    </td><td>15715.0      </td></tr>\n",
       "</table>"
      ]
     },
     "metadata": {},
     "output_type": "display_data"
    },
    {
     "name": "stdout",
     "output_type": "stream",
     "text": [
      "Merge Daily Weather with Bikes-Per-Day\n"
     ]
    },
    {
     "data": {
      "text/html": [
       "<table>\n",
       "<tr><th>       </th><th>Days         </th><th>start station name  </th><th>mean_tripduration  </th><th>mean_birth year  </th><th>bikes        </th><th>mean_gender   </th><th>weekday      </th><th>Humidity Fraction  </th><th>Rain (mm)      </th><th>Temperature (C)  </th><th>WC1   </th><th>Dew Point (C)  </th></tr>\n",
       "<tr><td>type   </td><td>int          </td><td>enum                </td><td>real               </td><td>real             </td><td>int          </td><td>real          </td><td>int          </td><td>real               </td><td>real           </td><td>real             </td><td>enum  </td><td>real           </td></tr>\n",
       "<tr><td>mins   </td><td>15887.0      </td><td>0.0                 </td><td>62.0               </td><td>1929.5           </td><td>1.0          </td><td>1.0           </td><td>0.0          </td><td>0.1723             </td><td>0.0            </td><td>-13.9            </td><td>0.0   </td><td>-26.7          </td></tr>\n",
       "<tr><td>mean   </td><td>16099.9758008</td><td>NaN                 </td><td>897.298678074      </td><td>1975.99965771    </td><td>74.7341035897</td><td>1.23490808342 </td><td>3.00197470936</td><td>0.532494425803     </td><td>0.0860139306769</td><td>15.6334205959    </td><td>NaN   </td><td>5.47825137402  </td></tr>\n",
       "<tr><td>maxs   </td><td>16314.0      </td><td>339.0               </td><td>166694.5           </td><td>1997.0           </td><td>680.0        </td><td>2.0           </td><td>6.0          </td><td>1.0                </td><td>8.382          </td><td>34.4             </td><td>10.0  </td><td>23.3           </td></tr>\n",
       "<tr><td>sigma  </td><td>123.635133897</td><td>NaN                 </td><td>1358.93483261      </td><td>3.1356602598     </td><td>64.1243887565</td><td>0.107465576239</td><td>1.99844557028</td><td>0.178408938664     </td><td>0.577304430765 </td><td>10.9454511961    </td><td>NaN   </td><td>11.7308194576  </td></tr>\n",
       "<tr><td>zeros  </td><td>0            </td><td>428                 </td><td>0                  </td><td>0                </td><td>0            </td><td>0             </td><td>19858        </td><td>0                  </td><td>131155         </td><td>1598             </td><td>324   </td><td>1954           </td></tr>\n",
       "<tr><td>missing</td><td>0            </td><td>0                   </td><td>0                  </td><td>64               </td><td>0            </td><td>64            </td><td>0            </td><td>981                </td><td>0              </td><td>981              </td><td>119130</td><td>981            </td></tr>\n",
       "<tr><td>0      </td><td>15887.0      </td><td>1 Ave & E 15 St     </td><td>706.85106383       </td><td>1976.05263158    </td><td>47.0         </td><td>1.15789473684 </td><td>4.0          </td><td>0.9354             </td><td>4.572          </td><td>22.8             </td><td>rain  </td><td>21.7           </td></tr>\n",
       "<tr><td>1      </td><td>15887.0      </td><td>1 Ave & E 18 St     </td><td>927.025            </td><td>1973.81081081    </td><td>40.0         </td><td>1.13513513514 </td><td>4.0          </td><td>0.9354             </td><td>4.572          </td><td>22.8             </td><td>rain  </td><td>21.7           </td></tr>\n",
       "<tr><td>2      </td><td>15887.0      </td><td>1 Ave & E 30 St     </td><td>768.857142857      </td><td>1975.28571429    </td><td>42.0         </td><td>1.14285714286 </td><td>4.0          </td><td>0.9354             </td><td>4.572          </td><td>22.8             </td><td>rain  </td><td>21.7           </td></tr>\n",
       "<tr><td>3      </td><td>15887.0      </td><td>1 Ave & E 44 St     </td><td>636.166666667      </td><td>1974.58333333    </td><td>12.0         </td><td>1.33333333333 </td><td>4.0          </td><td>0.9354             </td><td>4.572          </td><td>22.8             </td><td>rain  </td><td>21.7           </td></tr>\n",
       "<tr><td>4      </td><td>15887.0      </td><td>10 Ave & W 28 St    </td><td>761.071428571      </td><td>1975.27272727    </td><td>28.0         </td><td>1.13636363636 </td><td>4.0          </td><td>0.9354             </td><td>4.572          </td><td>22.8             </td><td>rain  </td><td>21.7           </td></tr>\n",
       "<tr><td>5      </td><td>15887.0      </td><td>11 Ave & W 27 St    </td><td>625.7              </td><td>1973.80769231    </td><td>30.0         </td><td>1.38461538462 </td><td>4.0          </td><td>0.9354             </td><td>4.572          </td><td>22.8             </td><td>rain  </td><td>21.7           </td></tr>\n",
       "<tr><td>6      </td><td>15887.0      </td><td>11 Ave & W 41 St    </td><td>820.4              </td><td>1973.11764706    </td><td>20.0         </td><td>1.0           </td><td>4.0          </td><td>0.9354             </td><td>4.572          </td><td>22.8             </td><td>rain  </td><td>21.7           </td></tr>\n",
       "<tr><td>7      </td><td>15887.0      </td><td>12 Ave & W 40 St    </td><td>1000.46153846      </td><td>1976.33333333    </td><td>13.0         </td><td>1.11111111111 </td><td>4.0          </td><td>0.9354             </td><td>4.572          </td><td>22.8             </td><td>rain  </td><td>21.7           </td></tr>\n",
       "<tr><td>8      </td><td>15887.0      </td><td>2 Ave & E 31 St     </td><td>708.939393939      </td><td>1975.0           </td><td>33.0         </td><td>1.17857142857 </td><td>4.0          </td><td>0.9354             </td><td>4.572          </td><td>22.8             </td><td>rain  </td><td>21.7           </td></tr>\n",
       "<tr><td>9      </td><td>15887.0      </td><td>2 Ave & E 58 St     </td><td>938.425925926      </td><td>1972.59259259    </td><td>54.0         </td><td>1.12962962963 </td><td>4.0          </td><td>0.9354             </td><td>4.572          </td><td>22.8             </td><td>rain  </td><td>21.7           </td></tr>\n",
       "</table>"
      ]
     },
     "metadata": {},
     "output_type": "display_data"
    },
    {
     "data": {
      "text/plain": [
       "[139261, 12]"
      ]
     },
     "execution_count": 14,
     "metadata": {},
     "output_type": "execute_result"
    }
   ],
   "source": [
    "#Go back to Step 2,3 once we have new relevant data\n",
    "# Load weather data\\n\",\n",
    "wthr1 = h2o.import_file(path=[path +\"31081_New_York_City__Hourly_2013.csv\",path +\"31081_New_York_City__Hourly_2014.csv\"])\n",
    "# Peek at the data\n",
    "wthr1.summary()\n",
    "# Lots of columns in there! Lets plan on converting to time-sinceepoch to do\n",
    "# a 'join' with the bike data, plus gather weather info that might affect\n",
    "# cyclists - rain, snow, temperature. Alas, drop the \"snow\" column since it's\n",
    "# all NA's. Also add in dew point and humidity just in case. Slice out just\n",
    "# the columns of interest and drop the rest.\n",
    "wthr2 = wthr1[[\"Year Local\",\"Month Local\",\"Day Local\",\"Hour Local\",\"Dew Point (C)\",\"Humidity Fraction\",\\\n",
    "               \"Precipitation One Hour (mm)\",\"Temperature (C)\",\"Weather Code 1/ Description\"]]\n",
    "wthr2.set_name(\"Precipitation One Hour (mm)\", \"Rain (mm)\")\n",
    "wthr2.set_name(\"Weather Code 1/ Description\", \"WC1\")\n",
    "wthr2.summary()\n",
    "# Much better!\n",
    "\n",
    "# Filter down to the weather at Noon: approximate the weather for the day\n",
    "wthr3 = wthr2[ wthr2[\"Hour Local\"]==12 ]\n",
    "# Lets now get Days since the epoch... we'll convert year/month/day into Epoch\n",
    "# time, and then back to Epoch days. Need zero-based month and days, but have\n",
    "# 1-based.\n",
    "wthr3[\"msec\"] = h2o.H2OFrame.mktime(year=wthr3[\"Year Local\"], month=wthr3[\"Month Local\"]-1, day=wthr3[\"Day Local\"]-1,\n",
    "hour=wthr3[\"Hour Local\"])\n",
    "wthr3[\"Days\"] = (wthr3[\"msec\"]/secsPerDay).floor()\n",
    "wthr3.summary()\n",
    "# msec looks sane (numbers like 1.3e12 are in the correct range for msec since\n",
    "# 1970). Epoch Days matches closely with the epoch day numbers from the\n",
    "# CitiBike dataset\n",
    "# Lets drop off the extra time columns to make a easy-to-handle dataset.\n",
    "wthr4 = wthr3.drop(\"Year Local\").drop(\"Month Local\").drop(\"Day Local\").drop(\"Hour Local\").drop(\"msec\")\n",
    "# Also, most rain numbers are missing - lets assume those are zero rain days\n",
    "rain = wthr4[\"Rain (mm)\"]\n",
    "rain[ rain.isna() ] = 0\n",
    "wthr4[\"Rain (mm)\"] = rain\n",
    "print(\"Merge Daily Weather with Bikes-Per-Day\")\n",
    "bpd_with_weather = bpd.merge(wthr4,all_x=True,all_y=False)\n",
    "bpd_with_weather.summary()\n",
    "bpd_with_weather.dim\n"
   ]
  },
  {
   "cell_type": "code",
   "execution_count": 15,
   "metadata": {
    "collapsed": false
   },
   "outputs": [
    {
     "name": "stdout",
     "output_type": "stream",
     "text": [
      "('Training data has', 12, 'columns and', 97459, 'rows, test has', 41802, 'rows')\n",
      "\n",
      "gbm Model Build Progress: [##################################################] 100%\n",
      "\n",
      "drf Model Build Progress: [##################################################] 100%\n",
      "\n",
      "glm Model Build Progress: [##################################################] 100%\n",
      "\n",
      "deeplearning Model Build Progress: [##################################################] 100%\n"
     ]
    },
    {
     "data": {
      "text/html": [
       "<div style=\"overflow:auto\"><table style=\"width:50%\"><tr><td><b>Model</b></td>\n",
       "<td><b>R2 TRAIN</b></td>\n",
       "<td><b>R2 TEST</b></td>\n",
       "<td><b>Model Training Time (s)</b></td></tr>\n",
       "<tr><td>GBM</td>\n",
       "<td>0.9587998</td>\n",
       "<td>0.9250398</td>\n",
       "<td>33.013</td></tr>\n",
       "<tr><td>DRF</td>\n",
       "<td>0.8806556</td>\n",
       "<td>0.8822460</td>\n",
       "<td>140.557</td></tr>\n",
       "<tr><td>GLM</td>\n",
       "<td>0.7097445</td>\n",
       "<td>0.7099442</td>\n",
       "<td>0.67</td></tr>\n",
       "<tr><td>DL </td>\n",
       "<td>0.8679371</td>\n",
       "<td>0.8658120</td>\n",
       "<td>35.528</td></tr></table></div>"
      ],
      "text/plain": [
       "Model      R2 TRAIN    R2 TEST    Model Training Time (s)\n",
       "-------  ----------  ---------  -------------------------\n",
       "GBM        0.9588     0.92504                      33.013\n",
       "DRF        0.880656   0.882246                    140.557\n",
       "GLM        0.709745   0.709944                      0.67\n",
       "DL         0.867937   0.865812                     35.528"
      ]
     },
     "metadata": {},
     "output_type": "display_data"
    }
   ],
   "source": [
    "# Split the data (into test & train), fit some models and look at the results\n",
    "split_fit_predict(bpd_with_weather)\n",
    "# Explore (in Flow) the 4 models - training time, quality of fit, tendency to overfit"
   ]
  },
  {
   "cell_type": "markdown",
   "metadata": {},
   "source": [
    "I have checked individual models and combined models by looking at H2O Flow models (Go to http://localhost:54321/flow/index.html Choose Model > List All Models). I found that the best performing model is GBM. Important features are station names, temperature, Days and weekday."
   ]
  },
  {
   "cell_type": "markdown",
   "metadata": {},
   "source": [
    "Validation is done implicitly when we look at H2O Flow models and train-test comparison."
   ]
  },
  {
   "cell_type": "markdown",
   "metadata": {},
   "source": [
    "## Stage 5: Communicate the data"
   ]
  },
  {
   "cell_type": "markdown",
   "metadata": {},
   "source": [
    "I have concluded that GBM with additional features (weather + weekday) is the best model with R2 test = 0.9250398\n",
    "\n",
    "Here is the performance visual.\n",
    "\n",
    "<img src=\"nyc-bike-GBM-performance.jpg\" width = \"500x\">\n",
    "\n",
    "Here is some output, product, ...\n",
    "\n"
   ]
  }
 ],
 "metadata": {
  "kernelspec": {
   "display_name": "Python 2",
   "language": "python",
   "name": "python2"
  },
  "language_info": {
   "codemirror_mode": {
    "name": "ipython",
    "version": 2
   },
   "file_extension": ".py",
   "mimetype": "text/x-python",
   "name": "python",
   "nbconvert_exporter": "python",
   "pygments_lexer": "ipython2",
   "version": "2.7.8"
  }
 },
 "nbformat": 4,
 "nbformat_minor": 0
}
