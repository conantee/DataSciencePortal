{
 "cells": [
  {
   "cell_type": "markdown",
   "metadata": {},
   "source": [
    "# Data Science Project: Flight Delay Prediction: Small data tryout"
   ]
  },
  {
   "cell_type": "markdown",
   "metadata": {},
   "source": [
    "Note: this is a part of an exercise in CME 250A: Machine Learning with Big data"
   ]
  },
  {
   "cell_type": "markdown",
   "metadata": {},
   "source": [
    "## Stage 1: Ask a question"
   ]
  },
  {
   "cell_type": "markdown",
   "metadata": {},
   "source": [
    "My objective is to predict if a flight arrival is going to be delayed or not."
   ]
  },
  {
   "cell_type": "markdown",
   "metadata": {},
   "source": [
    "The performance is measured by AUC since it is a classfication problem."
   ]
  },
  {
   "cell_type": "markdown",
   "metadata": {},
   "source": [
    "## Stage 2: Set the environment up and get data"
   ]
  },
  {
   "cell_type": "markdown",
   "metadata": {},
   "source": [
    "In this section, we need only local h2o. Please install h2o for desktop and h2o for Python. See http://www.h2o.ai/download/h2o/choose"
   ]
  },
  {
   "cell_type": "markdown",
   "metadata": {
    "collapsed": true
   },
   "source": [
    "This is how to launch h2o on a local machine.\n",
    "\n",
    "1. After installing h2o for Desktop and h2o for Python, open Git Shell window. Go to your h2o-x.x.x.x directory (likely to be your Home directory (Admin or your user name). Useful command is $\\texttt{cd h2o-3.8.2.3}$. \n",
    "\n",
    "2. Launch and specify the working memory (in this case 4GB) using command $\\texttt{java -Xmx4g -jar h2o.jar}$. \n",
    "\n",
    "3. To see the web interface of h2o. Go to URL: $\\texttt{http://localhost:54321/flow/index.html }$"
   ]
  },
  {
   "cell_type": "code",
   "execution_count": 222,
   "metadata": {
    "collapsed": false
   },
   "outputs": [
    {
     "data": {
      "text/plain": [
       "'C:\\\\Users\\\\Admin\\\\Documents\\\\GitHub\\\\DataSciencePortal\\\\DataScienceTemplateAndProjects'"
      ]
     },
     "execution_count": 222,
     "metadata": {},
     "output_type": "execute_result"
    }
   ],
   "source": [
    "# Python mode\n",
    "import os\n",
    "import time\n",
    "\n",
    "os.getcwd() #Return a string representing the current working directory"
   ]
  },
  {
   "cell_type": "code",
   "execution_count": 223,
   "metadata": {
    "collapsed": false
   },
   "outputs": [
    {
     "data": {
      "text/html": [
       "<div style=\"overflow:auto\"><table style=\"width:50%\"><tr><td>H2O cluster uptime: </td>\n",
       "<td>2 hours 9 minutes 3 seconds 561 milliseconds </td></tr>\n",
       "<tr><td>H2O cluster version: </td>\n",
       "<td>3.8.2.2</td></tr>\n",
       "<tr><td>H2O cluster name: </td>\n",
       "<td>Admin</td></tr>\n",
       "<tr><td>H2O cluster total nodes: </td>\n",
       "<td>1</td></tr>\n",
       "<tr><td>H2O cluster total free memory: </td>\n",
       "<td>1.74 GB</td></tr>\n",
       "<tr><td>H2O cluster total cores: </td>\n",
       "<td>4</td></tr>\n",
       "<tr><td>H2O cluster allowed cores: </td>\n",
       "<td>4</td></tr>\n",
       "<tr><td>H2O cluster healthy: </td>\n",
       "<td>True</td></tr>\n",
       "<tr><td>H2O Connection ip: </td>\n",
       "<td>127.0.0.1</td></tr>\n",
       "<tr><td>H2O Connection port: </td>\n",
       "<td>54321</td></tr>\n",
       "<tr><td>H2O Connection proxy: </td>\n",
       "<td>None</td></tr>\n",
       "<tr><td>Python Version: </td>\n",
       "<td>2.7.8</td></tr></table></div>"
      ],
      "text/plain": [
       "------------------------------  --------------------------------------------\n",
       "H2O cluster uptime:             2 hours 9 minutes 3 seconds 561 milliseconds\n",
       "H2O cluster version:            3.8.2.2\n",
       "H2O cluster name:               Admin\n",
       "H2O cluster total nodes:        1\n",
       "H2O cluster total free memory:  1.74 GB\n",
       "H2O cluster total cores:        4\n",
       "H2O cluster allowed cores:      4\n",
       "H2O cluster healthy:            True\n",
       "H2O Connection ip:              127.0.0.1\n",
       "H2O Connection port:            54321\n",
       "H2O Connection proxy:\n",
       "Python Version:                 2.7.8\n",
       "------------------------------  --------------------------------------------"
      ]
     },
     "metadata": {},
     "output_type": "display_data"
    }
   ],
   "source": [
    "import h2o\n",
    "#Connect to h2o\n",
    "h2o.init()"
   ]
  },
  {
   "cell_type": "markdown",
   "metadata": {},
   "source": [
    "I get data by setup Imports and Variables below. Note that the directory is different from the big data version. This is an exploratory phase before doing the real big data job."
   ]
  },
  {
   "cell_type": "code",
   "execution_count": 224,
   "metadata": {
    "collapsed": false
   },
   "outputs": [
    {
     "name": "stdout",
     "output_type": "stream",
     "text": [
      "Import and Parse flight data\n",
      "\n",
      "Parse Progress: [##################################################] 100%\n"
     ]
    }
   ],
   "source": [
    "# Load the weather data. We need it from S3 amazon set up for CME250A class.\n",
    "\n",
    "#path for a small flight data\n",
    "path = \"http://stanford-cme250a.s3.amazonaws.com/allyears2k.csv\"\n",
    "\n",
    "print(\"Import and Parse flight data\")\n",
    "data = h2o.import_file(path=path)\n"
   ]
  },
  {
   "cell_type": "code",
   "execution_count": 309,
   "metadata": {
    "collapsed": false
   },
   "outputs": [
    {
     "name": "stdout",
     "output_type": "stream",
     "text": [
      "Import and Parse weather data\n",
      "\n",
      "Parse Progress: [##################################################] 100%\n"
     ]
    }
   ],
   "source": [
    "# Load the weather data. We need it from S3 amazon set up for CME250A class.\n",
    "\n",
    "#Path for a small weather data. This is a small file that I directly download from S3 browser beforehand.\n",
    "#path = \"C:/Users/Tee/Desktop/CME250A/weather/\"\n",
    "path = \"C:/Users/Admin/Desktop/CME250A/weather/\"\n",
    "\n",
    "weather_years = [path+\"Xheader.csv\",\n",
    "                 path+\"X2008.csv\"]\n",
    "\n",
    "print(\"Import and Parse weather data\")\n",
    "wthr = h2o.import_file(path=weather_years)"
   ]
  },
  {
   "cell_type": "markdown",
   "metadata": {},
   "source": [
    "We need to reformat this weather link file to work with the cluster. I don't know why it did not work in the first place. It is probably related to the double quote format of CSV file. A quick trick is to remove everything except two columns we need: iata_ref and maslib. Do it and save it as a new file called $\\texttt{master-location-identifier-database-20130801-reformatted.csv}$"
   ]
  },
  {
   "cell_type": "code",
   "execution_count": 226,
   "metadata": {
    "collapsed": false
   },
   "outputs": [
    {
     "name": "stdout",
     "output_type": "stream",
     "text": [
      "\n",
      "Parse Progress: [##################################################] 100%\n"
     ]
    }
   ],
   "source": [
    "# Load the link data. The conversion between an airport name and a 6-digit Station code. This is local file. \n",
    "# This is a local file but downloadable from http://weather.noaa.gov/tg/site.shtml\n",
    "\n",
    "airport_weather_link = h2o.import_file(path=\"C:\\Users\\Admin\\Desktop\\CME250A\\weather\\master-location-identifier-database-20130801-reformatted.csv\")\n",
    "#airport_weather_link = h2o.import_file(path=\"C:\\Users\\Tee\\Desktop\\CME250A\\weather\\master-location-identifier-database-20130801-reformatted.csv\")"
   ]
  },
  {
   "cell_type": "markdown",
   "metadata": {},
   "source": [
    "## Stage 3: Explore the data"
   ]
  },
  {
   "cell_type": "markdown",
   "metadata": {},
   "source": [
    "Explore, Visualize, Clean, Transform, Feature engineering"
   ]
  },
  {
   "cell_type": "markdown",
   "metadata": {},
   "source": [
    "### Flight data"
   ]
  },
  {
   "cell_type": "code",
   "execution_count": 227,
   "metadata": {
    "collapsed": false
   },
   "outputs": [
    {
     "data": {
      "text/html": [
       "<table>\n",
       "<tr><th>       </th><th>Year         </th><th>Month        </th><th>DayofMonth   </th><th>DayOfWeek    </th><th>DepTime      </th><th>CRSDepTime   </th><th>ArrTime      </th><th>CRSArrTime   </th><th>UniqueCarrier  </th><th>FlightNum    </th><th>TailNum  </th><th>ActualElapsedTime  </th><th>CRSElapsedTime  </th><th>AirTime      </th><th>ArrDelay     </th><th>DepDelay     </th><th>Origin  </th><th>Dest  </th><th>Distance     </th><th>TaxiIn       </th><th>TaxiOut      </th><th>Cancelled      </th><th>CancellationCode  </th><th>Diverted        </th><th>CarrierDelay  </th><th>WeatherDelay  </th><th>NASDelay     </th><th>SecurityDelay  </th><th>LateAircraftDelay  </th><th>IsArrDelayed  </th><th>IsDepDelayed  </th></tr>\n",
       "<tr><td>type   </td><td>int          </td><td>int          </td><td>int          </td><td>int          </td><td>int          </td><td>int          </td><td>int          </td><td>int          </td><td>enum           </td><td>int          </td><td>enum     </td><td>int                </td><td>int             </td><td>int          </td><td>int          </td><td>int          </td><td>enum    </td><td>enum  </td><td>int          </td><td>int          </td><td>int          </td><td>int            </td><td>enum              </td><td>int             </td><td>int           </td><td>int           </td><td>int          </td><td>int            </td><td>int                </td><td>enum          </td><td>enum          </td></tr>\n",
       "<tr><td>mins   </td><td>1987.0       </td><td>1.0          </td><td>1.0          </td><td>1.0          </td><td>1.0          </td><td>0.0          </td><td>1.0          </td><td>0.0          </td><td>0.0            </td><td>1.0          </td><td>0.0      </td><td>16.0               </td><td>17.0            </td><td>14.0         </td><td>-63.0        </td><td>-16.0        </td><td>0.0     </td><td>0.0   </td><td>11.0         </td><td>0.0          </td><td>0.0          </td><td>0.0            </td><td>0.0               </td><td>0.0             </td><td>0.0           </td><td>0.0           </td><td>0.0          </td><td>0.0            </td><td>0.0                </td><td>0.0           </td><td>0.0           </td></tr>\n",
       "<tr><td>mean   </td><td>1997.5       </td><td>1.40909090909</td><td>14.6010732639</td><td>3.82061485288</td><td>1345.84666138</td><td>1313.22286143</td><td>1504.63413038</td><td>1485.28916731</td><td>NaN            </td><td>818.842989677</td><td>NaN      </td><td>124.814529135      </td><td>125.021562607   </td><td>114.316111091</td><td>9.31711193698</td><td>10.0073906556</td><td>NaN     </td><td>NaN   </td><td>730.182190565</td><td>5.38136805953</td><td>14.1686341847</td><td>0.0246941652645</td><td>NaN               </td><td>0.00247851198326</td><td>4.04780029106 </td><td>0.289376469271</td><td>4.85503190418</td><td>0.0170155602821</td><td>7.62006045002      </td><td>0.555755150302</td><td>0.525057983537</td></tr>\n",
       "<tr><td>maxs   </td><td>2008.0       </td><td>10.0         </td><td>31.0         </td><td>7.0          </td><td>2400.0       </td><td>2359.0       </td><td>2400.0       </td><td>2359.0       </td><td>9.0            </td><td>3949.0       </td><td>3500.0   </td><td>475.0              </td><td>437.0           </td><td>402.0        </td><td>475.0        </td><td>473.0        </td><td>131.0   </td><td>133.0 </td><td>3365.0       </td><td>128.0        </td><td>254.0        </td><td>1.0            </td><td>3.0               </td><td>1.0             </td><td>369.0         </td><td>201.0         </td><td>323.0        </td><td>14.0           </td><td>373.0              </td><td>1.0           </td><td>1.0           </td></tr>\n",
       "<tr><td>sigma  </td><td>6.34436090171</td><td>1.87471137134</td><td>9.17579042586</td><td>1.90501311913</td><td>465.340899124</td><td>476.251139993</td><td>484.347487904</td><td>492.750434123</td><td>NaN            </td><td>777.404369164</td><td>NaN      </td><td>73.9744416606      </td><td>73.40159463     </td><td>69.6363295151</td><td>29.8402219624</td><td>26.4388090429</td><td>NaN     </td><td>NaN   </td><td>578.43800823 </td><td>4.20197993986</td><td>9.9050857472 </td><td>0.155193141358 </td><td>NaN               </td><td>0.0497234872189 </td><td>16.2057299045 </td><td>4.41677989873 </td><td>18.6197762215</td><td>0.403940182102 </td><td>23.4875658741      </td><td>0.496887288343</td><td>0.499377380318</td></tr>\n",
       "<tr><td>zeros  </td><td>0            </td><td>0            </td><td>0            </td><td>0            </td><td>0            </td><td>569          </td><td>0            </td><td>569          </td><td>724            </td><td>0            </td><td>2        </td><td>0                  </td><td>0               </td><td>0            </td><td>1514         </td><td>6393         </td><td>59      </td><td>172   </td><td>0            </td><td>623          </td><td>557          </td><td>42892          </td><td>81                </td><td>43869           </td><td>7344          </td><td>8840          </td><td>7388         </td><td>8914           </td><td>7140               </td><td>19537         </td><td>20887         </td></tr>\n",
       "<tr><td>missing</td><td>0            </td><td>0            </td><td>0            </td><td>0            </td><td>1086         </td><td>0            </td><td>1195         </td><td>0            </td><td>0              </td><td>0            </td><td>32       </td><td>1195               </td><td>13              </td><td>16649        </td><td>1195         </td><td>1086         </td><td>0       </td><td>0     </td><td>35           </td><td>16026        </td><td>16024        </td><td>0              </td><td>9774              </td><td>0               </td><td>35045         </td><td>35045         </td><td>35045        </td><td>35045          </td><td>35045              </td><td>0             </td><td>0             </td></tr>\n",
       "<tr><td>0      </td><td>1987.0       </td><td>10.0         </td><td>14.0         </td><td>3.0          </td><td>741.0        </td><td>730.0        </td><td>912.0        </td><td>849.0        </td><td>PS             </td><td>1451.0       </td><td>NA       </td><td>91.0               </td><td>79.0            </td><td>nan          </td><td>23.0         </td><td>11.0         </td><td>SAN     </td><td>SFO   </td><td>447.0        </td><td>nan          </td><td>nan          </td><td>0.0            </td><td>NA                </td><td>0.0             </td><td>nan           </td><td>nan           </td><td>nan          </td><td>nan            </td><td>nan                </td><td>YES           </td><td>YES           </td></tr>\n",
       "<tr><td>1      </td><td>1987.0       </td><td>10.0         </td><td>15.0         </td><td>4.0          </td><td>729.0        </td><td>730.0        </td><td>903.0        </td><td>849.0        </td><td>PS             </td><td>1451.0       </td><td>NA       </td><td>94.0               </td><td>79.0            </td><td>nan          </td><td>14.0         </td><td>-1.0         </td><td>SAN     </td><td>SFO   </td><td>447.0        </td><td>nan          </td><td>nan          </td><td>0.0            </td><td>NA                </td><td>0.0             </td><td>nan           </td><td>nan           </td><td>nan          </td><td>nan            </td><td>nan                </td><td>YES           </td><td>NO            </td></tr>\n",
       "<tr><td>2      </td><td>1987.0       </td><td>10.0         </td><td>17.0         </td><td>6.0          </td><td>741.0        </td><td>730.0        </td><td>918.0        </td><td>849.0        </td><td>PS             </td><td>1451.0       </td><td>NA       </td><td>97.0               </td><td>79.0            </td><td>nan          </td><td>29.0         </td><td>11.0         </td><td>SAN     </td><td>SFO   </td><td>447.0        </td><td>nan          </td><td>nan          </td><td>0.0            </td><td>NA                </td><td>0.0             </td><td>nan           </td><td>nan           </td><td>nan          </td><td>nan            </td><td>nan                </td><td>YES           </td><td>YES           </td></tr>\n",
       "<tr><td>3      </td><td>1987.0       </td><td>10.0         </td><td>18.0         </td><td>7.0          </td><td>729.0        </td><td>730.0        </td><td>847.0        </td><td>849.0        </td><td>PS             </td><td>1451.0       </td><td>NA       </td><td>78.0               </td><td>79.0            </td><td>nan          </td><td>-2.0         </td><td>-1.0         </td><td>SAN     </td><td>SFO   </td><td>447.0        </td><td>nan          </td><td>nan          </td><td>0.0            </td><td>NA                </td><td>0.0             </td><td>nan           </td><td>nan           </td><td>nan          </td><td>nan            </td><td>nan                </td><td>NO            </td><td>NO            </td></tr>\n",
       "<tr><td>4      </td><td>1987.0       </td><td>10.0         </td><td>19.0         </td><td>1.0          </td><td>749.0        </td><td>730.0        </td><td>922.0        </td><td>849.0        </td><td>PS             </td><td>1451.0       </td><td>NA       </td><td>93.0               </td><td>79.0            </td><td>nan          </td><td>33.0         </td><td>19.0         </td><td>SAN     </td><td>SFO   </td><td>447.0        </td><td>nan          </td><td>nan          </td><td>0.0            </td><td>NA                </td><td>0.0             </td><td>nan           </td><td>nan           </td><td>nan          </td><td>nan            </td><td>nan                </td><td>YES           </td><td>YES           </td></tr>\n",
       "<tr><td>5      </td><td>1987.0       </td><td>10.0         </td><td>21.0         </td><td>3.0          </td><td>728.0        </td><td>730.0        </td><td>848.0        </td><td>849.0        </td><td>PS             </td><td>1451.0       </td><td>NA       </td><td>80.0               </td><td>79.0            </td><td>nan          </td><td>-1.0         </td><td>-2.0         </td><td>SAN     </td><td>SFO   </td><td>447.0        </td><td>nan          </td><td>nan          </td><td>0.0            </td><td>NA                </td><td>0.0             </td><td>nan           </td><td>nan           </td><td>nan          </td><td>nan            </td><td>nan                </td><td>NO            </td><td>NO            </td></tr>\n",
       "<tr><td>6      </td><td>1987.0       </td><td>10.0         </td><td>22.0         </td><td>4.0          </td><td>728.0        </td><td>730.0        </td><td>852.0        </td><td>849.0        </td><td>PS             </td><td>1451.0       </td><td>NA       </td><td>84.0               </td><td>79.0            </td><td>nan          </td><td>3.0          </td><td>-2.0         </td><td>SAN     </td><td>SFO   </td><td>447.0        </td><td>nan          </td><td>nan          </td><td>0.0            </td><td>NA                </td><td>0.0             </td><td>nan           </td><td>nan           </td><td>nan          </td><td>nan            </td><td>nan                </td><td>YES           </td><td>NO            </td></tr>\n",
       "<tr><td>7      </td><td>1987.0       </td><td>10.0         </td><td>23.0         </td><td>5.0          </td><td>731.0        </td><td>730.0        </td><td>902.0        </td><td>849.0        </td><td>PS             </td><td>1451.0       </td><td>NA       </td><td>91.0               </td><td>79.0            </td><td>nan          </td><td>13.0         </td><td>1.0          </td><td>SAN     </td><td>SFO   </td><td>447.0        </td><td>nan          </td><td>nan          </td><td>0.0            </td><td>NA                </td><td>0.0             </td><td>nan           </td><td>nan           </td><td>nan          </td><td>nan            </td><td>nan                </td><td>YES           </td><td>YES           </td></tr>\n",
       "<tr><td>8      </td><td>1987.0       </td><td>10.0         </td><td>24.0         </td><td>6.0          </td><td>744.0        </td><td>730.0        </td><td>908.0        </td><td>849.0        </td><td>PS             </td><td>1451.0       </td><td>NA       </td><td>84.0               </td><td>79.0            </td><td>nan          </td><td>19.0         </td><td>14.0         </td><td>SAN     </td><td>SFO   </td><td>447.0        </td><td>nan          </td><td>nan          </td><td>0.0            </td><td>NA                </td><td>0.0             </td><td>nan           </td><td>nan           </td><td>nan          </td><td>nan            </td><td>nan                </td><td>YES           </td><td>YES           </td></tr>\n",
       "<tr><td>9      </td><td>1987.0       </td><td>10.0         </td><td>25.0         </td><td>7.0          </td><td>729.0        </td><td>730.0        </td><td>851.0        </td><td>849.0        </td><td>PS             </td><td>1451.0       </td><td>NA       </td><td>82.0               </td><td>79.0            </td><td>nan          </td><td>2.0          </td><td>-1.0         </td><td>SAN     </td><td>SFO   </td><td>447.0        </td><td>nan          </td><td>nan          </td><td>0.0            </td><td>NA                </td><td>0.0             </td><td>nan           </td><td>nan           </td><td>nan          </td><td>nan            </td><td>nan                </td><td>YES           </td><td>NO            </td></tr>\n",
       "</table>"
      ]
     },
     "metadata": {},
     "output_type": "display_data"
    },
    {
     "name": "stdout",
     "output_type": "stream",
     "text": [
      "(43978, 31)\n"
     ]
    }
   ],
   "source": [
    "#Check the size and summary of data\n",
    "data.summary()\n",
    "print data.shape"
   ]
  },
  {
   "cell_type": "markdown",
   "metadata": {
    "collapsed": false
   },
   "source": [
    "General theme: specify data types correctly, do some conversion, and get rid of bad and \"too good\" predictors. We also build a new feature called 'Date' to merge data in the future.\n",
    "\n",
    "Note that CRS stands for Computer Reservation System. Using actual information in comparison with CRS information is kind of cheating. So remove actual information."
   ]
  },
  {
   "cell_type": "code",
   "execution_count": 228,
   "metadata": {
    "collapsed": true
   },
   "outputs": [],
   "source": [
    "#Year, Month, DayOfMonth, integer is good. Leave it as it is. \n",
    "\n",
    "#DayOfWeek should be treated as enum instead of int\n",
    "data['DayOfWeek'] = data['DayOfWeek'].asfactor()"
   ]
  },
  {
   "cell_type": "code",
   "execution_count": 229,
   "metadata": {
    "collapsed": true
   },
   "outputs": [],
   "source": [
    "#All Time should be converted to minutes (1 = 0*60+ 1, 2359 = 25*60+39)\n",
    "\n",
    "data = data.drop(\"DepTime\")\n",
    "data['CRSDepTime'] = (data['CRSDepTime']/100).floor()*60 + (data['CRSDepTime']%100)\n",
    "data = data.drop(\"ArrTime\")\n",
    "data['CRSArrTime'] = (data['CRSArrTime']/100).floor()*60 + (data['CRSArrTime']%100)"
   ]
  },
  {
   "cell_type": "code",
   "execution_count": 230,
   "metadata": {
    "collapsed": true
   },
   "outputs": [],
   "source": [
    "#UniqueCarrier is good.\n",
    "\n",
    "#FlightNum should be treated as enum intead of int\n",
    "data['FlightNum'] = data['FlightNum'].asfactor()"
   ]
  },
  {
   "cell_type": "code",
   "execution_count": 231,
   "metadata": {
    "collapsed": true
   },
   "outputs": [],
   "source": [
    "#ActualElapsedTime, CRSElapseTime, AirTime: keep only CRSElapseTime.\n",
    "data = data.drop(\"ActualElapsedTime\")\n",
    "data = data.drop(\"AirTime\")"
   ]
  },
  {
   "cell_type": "code",
   "execution_count": 232,
   "metadata": {
    "collapsed": true
   },
   "outputs": [],
   "source": [
    "#ArrDelay, DepDelay are \"too good\" predictors. Drop it.\n",
    "data = data.drop(\"ArrDelay\").drop(\"DepDelay\")\n",
    "\n",
    "#Origin and Dest are good."
   ]
  },
  {
   "cell_type": "code",
   "execution_count": 233,
   "metadata": {
    "collapsed": false
   },
   "outputs": [],
   "source": [
    "#Cancelled, CancellationCode, Diverted, CarrierDelay, WeatherDelay, NASDelay, SecurityDelay, LateAircraftDelay are \"too good\" predictors. Drop it.\n",
    "data = data.drop(\"Cancelled\").drop(\"CancellationCode\").drop(\"Diverted\").drop(\"CarrierDelay\")\\\n",
    "    .drop(\"WeatherDelay\").drop(\"NASDelay\").drop(\"SecurityDelay\").drop(\"LateAircraftDelay\")\n",
    "    \n",
    "#Drop TaxiIn and TaxiOut? This is suspicious. So just drop it.\n",
    "data = data.drop(\"TaxiIn\").drop(\"TaxiOut\")"
   ]
  },
  {
   "cell_type": "code",
   "execution_count": 234,
   "metadata": {
    "collapsed": true
   },
   "outputs": [],
   "source": [
    "#IsArrDelayed and IsDepDelayed should be treated as boolean. enum is fine.\n",
    "#Just focus on IsArrDelayed as in the lecture. Drop the other.\n",
    "data = data.drop(\"IsDepDelayed\")"
   ]
  },
  {
   "cell_type": "code",
   "execution_count": 235,
   "metadata": {
    "collapsed": true
   },
   "outputs": [],
   "source": [
    "#Construct a proper date\n",
    "data[\"Date\"] = (data[\"Year\"]*10000) + (data[\"Month\"]*100) + data[\"DayofMonth\"]"
   ]
  },
  {
   "cell_type": "code",
   "execution_count": 236,
   "metadata": {
    "collapsed": false
   },
   "outputs": [
    {
     "data": {
      "text/html": [
       "<table>\n",
       "<tr><th>       </th><th>Year         </th><th>Month        </th><th>DayofMonth   </th><th>DayOfWeek  </th><th>CRSDepTime   </th><th>CRSArrTime   </th><th>UniqueCarrier  </th><th>FlightNum  </th><th>TailNum  </th><th>CRSElapsedTime  </th><th>Origin  </th><th>Dest  </th><th>Distance     </th><th>IsArrDelayed  </th><th>Date         </th></tr>\n",
       "<tr><td>type   </td><td>int          </td><td>int          </td><td>int          </td><td>enum       </td><td>int          </td><td>int          </td><td>enum           </td><td>enum       </td><td>enum     </td><td>int             </td><td>enum    </td><td>enum  </td><td>int          </td><td>enum          </td><td>int          </td></tr>\n",
       "<tr><td>mins   </td><td>1987.0       </td><td>1.0          </td><td>1.0          </td><td>0.0        </td><td>0.0          </td><td>0.0          </td><td>0.0            </td><td>0.0        </td><td>0.0      </td><td>17.0            </td><td>0.0     </td><td>0.0   </td><td>11.0         </td><td>0.0           </td><td>19871001.0   </td></tr>\n",
       "<tr><td>mean   </td><td>1997.5       </td><td>1.40909090909</td><td>14.6010732639</td><td>NaN        </td><td>798.380894993</td><td>902.699690754</td><td>NaN            </td><td>NaN        </td><td>NaN      </td><td>125.021562607   </td><td>NaN     </td><td>NaN   </td><td>730.182190565</td><td>0.555755150302</td><td>19975155.5102</td></tr>\n",
       "<tr><td>maxs   </td><td>2008.0       </td><td>10.0         </td><td>31.0         </td><td>6.0        </td><td>1439.0       </td><td>1439.0       </td><td>9.0            </td><td>2438.0     </td><td>3500.0   </td><td>437.0           </td><td>131.0   </td><td>133.0 </td><td>3365.0       </td><td>1.0           </td><td>20080103.0   </td></tr>\n",
       "<tr><td>sigma  </td><td>6.34436090171</td><td>1.87471137134</td><td>9.17579042586</td><td>NaN        </td><td>286.949414367</td><td>296.112371758</td><td>NaN            </td><td>NaN        </td><td>NaN      </td><td>73.40159463     </td><td>NaN     </td><td>NaN   </td><td>578.43800823 </td><td>0.496887288343</td><td>63373.922583 </td></tr>\n",
       "<tr><td>zeros  </td><td>0            </td><td>0            </td><td>0            </td><td>5802       </td><td>569          </td><td>569          </td><td>724            </td><td>3          </td><td>2        </td><td>0               </td><td>59      </td><td>172   </td><td>0            </td><td>19537         </td><td>0            </td></tr>\n",
       "<tr><td>missing</td><td>0            </td><td>0            </td><td>0            </td><td>0          </td><td>0            </td><td>0            </td><td>0              </td><td>0          </td><td>32       </td><td>13              </td><td>0       </td><td>0     </td><td>35           </td><td>0             </td><td>0            </td></tr>\n",
       "<tr><td>0      </td><td>1987.0       </td><td>10.0         </td><td>14.0         </td><td>3          </td><td>450.0        </td><td>529.0        </td><td>PS             </td><td>1451       </td><td>NA       </td><td>79.0            </td><td>SAN     </td><td>SFO   </td><td>447.0        </td><td>YES           </td><td>19871014.0   </td></tr>\n",
       "<tr><td>1      </td><td>1987.0       </td><td>10.0         </td><td>15.0         </td><td>4          </td><td>450.0        </td><td>529.0        </td><td>PS             </td><td>1451       </td><td>NA       </td><td>79.0            </td><td>SAN     </td><td>SFO   </td><td>447.0        </td><td>YES           </td><td>19871015.0   </td></tr>\n",
       "<tr><td>2      </td><td>1987.0       </td><td>10.0         </td><td>17.0         </td><td>6          </td><td>450.0        </td><td>529.0        </td><td>PS             </td><td>1451       </td><td>NA       </td><td>79.0            </td><td>SAN     </td><td>SFO   </td><td>447.0        </td><td>YES           </td><td>19871017.0   </td></tr>\n",
       "<tr><td>3      </td><td>1987.0       </td><td>10.0         </td><td>18.0         </td><td>7          </td><td>450.0        </td><td>529.0        </td><td>PS             </td><td>1451       </td><td>NA       </td><td>79.0            </td><td>SAN     </td><td>SFO   </td><td>447.0        </td><td>NO            </td><td>19871018.0   </td></tr>\n",
       "<tr><td>4      </td><td>1987.0       </td><td>10.0         </td><td>19.0         </td><td>1          </td><td>450.0        </td><td>529.0        </td><td>PS             </td><td>1451       </td><td>NA       </td><td>79.0            </td><td>SAN     </td><td>SFO   </td><td>447.0        </td><td>YES           </td><td>19871019.0   </td></tr>\n",
       "<tr><td>5      </td><td>1987.0       </td><td>10.0         </td><td>21.0         </td><td>3          </td><td>450.0        </td><td>529.0        </td><td>PS             </td><td>1451       </td><td>NA       </td><td>79.0            </td><td>SAN     </td><td>SFO   </td><td>447.0        </td><td>NO            </td><td>19871021.0   </td></tr>\n",
       "<tr><td>6      </td><td>1987.0       </td><td>10.0         </td><td>22.0         </td><td>4          </td><td>450.0        </td><td>529.0        </td><td>PS             </td><td>1451       </td><td>NA       </td><td>79.0            </td><td>SAN     </td><td>SFO   </td><td>447.0        </td><td>YES           </td><td>19871022.0   </td></tr>\n",
       "<tr><td>7      </td><td>1987.0       </td><td>10.0         </td><td>23.0         </td><td>5          </td><td>450.0        </td><td>529.0        </td><td>PS             </td><td>1451       </td><td>NA       </td><td>79.0            </td><td>SAN     </td><td>SFO   </td><td>447.0        </td><td>YES           </td><td>19871023.0   </td></tr>\n",
       "<tr><td>8      </td><td>1987.0       </td><td>10.0         </td><td>24.0         </td><td>6          </td><td>450.0        </td><td>529.0        </td><td>PS             </td><td>1451       </td><td>NA       </td><td>79.0            </td><td>SAN     </td><td>SFO   </td><td>447.0        </td><td>YES           </td><td>19871024.0   </td></tr>\n",
       "<tr><td>9      </td><td>1987.0       </td><td>10.0         </td><td>25.0         </td><td>7          </td><td>450.0        </td><td>529.0        </td><td>PS             </td><td>1451       </td><td>NA       </td><td>79.0            </td><td>SAN     </td><td>SFO   </td><td>447.0        </td><td>YES           </td><td>19871025.0   </td></tr>\n",
       "</table>"
      ]
     },
     "metadata": {},
     "output_type": "display_data"
    },
    {
     "name": "stdout",
     "output_type": "stream",
     "text": [
      "(43978, 15)\n"
     ]
    }
   ],
   "source": [
    "#Recap. \n",
    "data.summary()\n",
    "print data.shape"
   ]
  },
  {
   "cell_type": "markdown",
   "metadata": {},
   "source": [
    "### Weather data"
   ]
  },
  {
   "cell_type": "code",
   "execution_count": 310,
   "metadata": {
    "collapsed": false
   },
   "outputs": [
    {
     "data": {
      "text/html": [
       "<table>\n",
       "<tr><th>       </th><th>Station      </th><th>WBAN         </th><th>Year  </th><th>MonthDay     </th><th>temp         </th><th>temp cnt     </th><th>dewpoint     </th><th>dewpoint cnt  </th><th>sea level pres  </th><th>sea cnt      </th><th>station pres  </th><th>stat cnt     </th><th>visibility   </th><th>visi cnt     </th><th>mean wind speed  </th><th>wind speed cnt  </th><th>max wind speed  </th><th>gust speed   </th><th>max temp     </th><th>*is hourly max  </th><th>min temp     </th><th>*is hourly min  </th><th>precipitation  </th><th>precip report  </th><th>snow depth   </th><th>fog            </th><th>rain          </th><th>snow           </th><th>hail            </th><th>thunder        </th><th>tornado          </th></tr>\n",
       "<tr><td>type   </td><td>int          </td><td>int          </td><td>int   </td><td>int          </td><td>real         </td><td>int          </td><td>real         </td><td>int           </td><td>real            </td><td>int          </td><td>real          </td><td>int          </td><td>real         </td><td>int          </td><td>real             </td><td>int             </td><td>real            </td><td>real         </td><td>real         </td><td>enum            </td><td>real         </td><td>enum            </td><td>real           </td><td>enum           </td><td>real         </td><td>int            </td><td>int           </td><td>int            </td><td>int             </td><td>int            </td><td>int              </td></tr>\n",
       "<tr><td>mins   </td><td>10010.0      </td><td>102.0        </td><td>2008.0</td><td>101.0        </td><td>-113.0       </td><td>4.0          </td><td>-119.0       </td><td>0.0           </td><td>907.7           </td><td>0.0          </td><td>549.8         </td><td>0.0          </td><td>0.0          </td><td>0.0          </td><td>0.0              </td><td>0.0             </td><td>0.4             </td><td>1.0          </td><td>-106.2       </td><td>0.0             </td><td>-119.4       </td><td>0.0             </td><td>0.0            </td><td>0.0            </td><td>0.4          </td><td>0.0            </td><td>0.0           </td><td>0.0            </td><td>0.0             </td><td>0.0            </td><td>0.0              </td></tr>\n",
       "<tr><td>mean   </td><td>547314.964621</td><td>87463.0981285</td><td>2008.0</td><td>670.778050368</td><td>53.9973758002</td><td>16.8964896897</td><td>663.812227393</td><td>15.5385132786 </td><td>4180.02237661   </td><td>8.72217436396</td><td>4321.34239852 </td><td>3.33330081324</td><td>256.850380356</td><td>12.0911487651</td><td>44.0299598744    </td><td>16.1429810244   </td><td>59.9926043587   </td><td>747.738643225</td><td>72.2235527104</td><td>0.0             </td><td>53.0420092554</td><td>0.0             </td><td>9.32506548126  </td><td>NaN            </td><td>954.237926286</td><td>0.0573479912167</td><td>0.238952585991</td><td>0.0664748839505</td><td>0.00145052964359</td><td>0.0467688522362</td><td>0.000113581907003</td></tr>\n",
       "<tr><td>maxs   </td><td>999999.0     </td><td>99999.0      </td><td>2008.0</td><td>1231.0       </td><td>110.0        </td><td>24.0         </td><td>9999.9       </td><td>24.0          </td><td>9999.9          </td><td>24.0         </td><td>9999.9        </td><td>9.0          </td><td>999.9        </td><td>24.0         </td><td>999.9            </td><td>24.0            </td><td>999.9           </td><td>999.9        </td><td>9999.9       </td><td>0.0             </td><td>9999.9       </td><td>0.0             </td><td>99.99          </td><td>8.0            </td><td>999.9        </td><td>1.0            </td><td>1.0           </td><td>1.0            </td><td>1.0             </td><td>1.0            </td><td>1.0              </td></tr>\n",
       "<tr><td>sigma  </td><td>309885.125956</td><td>28861.3817425</td><td>0.0   </td><td>345.063581283</td><td>22.8949965519</td><td>7.93400813534</td><td>2407.3711756 </td><td>8.69842287125 </td><td>4292.37877298   </td><td>9.0275817175 </td><td>4361.66342441 </td><td>3.01801174662</td><td>428.287582024</td><td>9.85777130798</td><td>189.061972638    </td><td>8.40498832878   </td><td>211.997005667   </td><td>427.20822904 </td><td>300.865893076</td><td>0.0             </td><td>279.380764318</td><td>0.0             </td><td>28.9676708138  </td><td>NaN            </td><td>207.631492924</td><td>0.232506375367 </td><td>0.426443782541</td><td>0.249110400242 </td><td>0.0380581925706 </td><td>0.211143409681 </td><td>0.0106568775279  </td></tr>\n",
       "<tr><td>zeros  </td><td>0            </td><td>0            </td><td>0     </td><td>0            </td><td>659          </td><td>0            </td><td>860          </td><td>217897        </td><td>0               </td><td>1231437      </td><td>0             </td><td>1325705      </td><td>3925         </td><td>871534       </td><td>37182            </td><td>131514          </td><td>0               </td><td>0            </td><td>853          </td><td>1323391         </td><td>1772         </td><td>1638361         </td><td>2377026        </td><td>31011          </td><td>0            </td><td>3294828        </td><td>2660070       </td><td>3262927        </td><td>3490205         </td><td>3331805        </td><td>3494878          </td></tr>\n",
       "<tr><td>missing</td><td>0            </td><td>0            </td><td>0     </td><td>0            </td><td>0            </td><td>0            </td><td>0            </td><td>0             </td><td>0               </td><td>0            </td><td>0             </td><td>0            </td><td>0            </td><td>0            </td><td>0                </td><td>0               </td><td>0               </td><td>0            </td><td>0            </td><td>2171884         </td><td>0            </td><td>1856914         </td><td>0              </td><td>323728         </td><td>0            </td><td>0              </td><td>0             </td><td>0              </td><td>0               </td><td>0              </td><td>0                </td></tr>\n",
       "<tr><td>0      </td><td>10010.0      </td><td>99999.0      </td><td>2008.0</td><td>101.0        </td><td>36.0         </td><td>24.0         </td><td>32.7         </td><td>24.0          </td><td>1004.7          </td><td>24.0         </td><td>1003.5        </td><td>4.0          </td><td>6.2          </td><td>6.0          </td><td>23.2             </td><td>24.0            </td><td>29.1            </td><td>999.9        </td><td>36.9         </td><td>                </td><td>33.4         </td><td>                </td><td>0.11           </td><td>G              </td><td>999.9        </td><td>0.0            </td><td>1.0           </td><td>0.0            </td><td>0.0             </td><td>0.0            </td><td>0.0              </td></tr>\n",
       "<tr><td>1      </td><td>10010.0      </td><td>99999.0      </td><td>2008.0</td><td>102.0        </td><td>33.3         </td><td>24.0         </td><td>29.3         </td><td>24.0          </td><td>1007.8          </td><td>24.0         </td><td>1006.6        </td><td>4.0          </td><td>5.7          </td><td>6.0          </td><td>9.6              </td><td>24.0            </td><td>23.3            </td><td>999.9        </td><td>35.8         </td><td>*               </td><td>29.1         </td><td>*               </td><td>0.06           </td><td>G              </td><td>999.9        </td><td>0.0            </td><td>1.0           </td><td>0.0            </td><td>0.0             </td><td>0.0            </td><td>0.0              </td></tr>\n",
       "<tr><td>2      </td><td>10010.0      </td><td>99999.0      </td><td>2008.0</td><td>103.0        </td><td>35.0         </td><td>24.0         </td><td>32.8         </td><td>24.0          </td><td>1017.5          </td><td>24.0         </td><td>1016.4        </td><td>4.0          </td><td>1.6          </td><td>6.0          </td><td>12.2             </td><td>24.0            </td><td>19.4            </td><td>999.9        </td><td>36.7         </td><td>                </td><td>28.8         </td><td>                </td><td>0.34           </td><td>G              </td><td>999.9        </td><td>1.0            </td><td>1.0           </td><td>0.0            </td><td>0.0             </td><td>0.0            </td><td>0.0              </td></tr>\n",
       "<tr><td>3      </td><td>10010.0      </td><td>99999.0      </td><td>2008.0</td><td>104.0        </td><td>34.1         </td><td>24.0         </td><td>31.6         </td><td>24.0          </td><td>1014.8          </td><td>24.0         </td><td>1013.6        </td><td>4.0          </td><td>5.4          </td><td>7.0          </td><td>8.5              </td><td>24.0            </td><td>19.4            </td><td>999.9        </td><td>35.2         </td><td>                </td><td>32.9         </td><td>*               </td><td>0.14           </td><td>G              </td><td>999.9        </td><td>0.0            </td><td>1.0           </td><td>0.0            </td><td>0.0             </td><td>0.0            </td><td>0.0              </td></tr>\n",
       "<tr><td>4      </td><td>10010.0      </td><td>99999.0      </td><td>2008.0</td><td>105.0        </td><td>34.0         </td><td>24.0         </td><td>30.5         </td><td>24.0          </td><td>1005.4          </td><td>24.0         </td><td>1004.3        </td><td>4.0          </td><td>15.1         </td><td>6.0          </td><td>10.2             </td><td>24.0            </td><td>15.5            </td><td>999.9        </td><td>35.1         </td><td>*               </td><td>32.0         </td><td>                </td><td>0.0            </td><td>G              </td><td>999.9        </td><td>0.0            </td><td>0.0           </td><td>0.0            </td><td>0.0             </td><td>0.0            </td><td>0.0              </td></tr>\n",
       "<tr><td>5      </td><td>10010.0      </td><td>99999.0      </td><td>2008.0</td><td>106.0        </td><td>35.7         </td><td>24.0         </td><td>32.1         </td><td>24.0          </td><td>996.6           </td><td>24.0         </td><td>995.5         </td><td>4.0          </td><td>8.7          </td><td>6.0          </td><td>14.3             </td><td>24.0            </td><td>21.4            </td><td>999.9        </td><td>36.5         </td><td>                </td><td>34.2         </td><td>                </td><td>0.0            </td><td>G              </td><td>999.9        </td><td>0.0            </td><td>1.0           </td><td>0.0            </td><td>0.0             </td><td>0.0            </td><td>0.0              </td></tr>\n",
       "<tr><td>6      </td><td>10010.0      </td><td>99999.0      </td><td>2008.0</td><td>107.0        </td><td>36.6         </td><td>24.0         </td><td>34.0         </td><td>24.0          </td><td>992.8           </td><td>24.0         </td><td>991.6         </td><td>4.0          </td><td>3.1          </td><td>6.0          </td><td>14.6             </td><td>24.0            </td><td>19.4            </td><td>999.9        </td><td>38.3         </td><td>*               </td><td>34.0         </td><td>                </td><td>0.06           </td><td>G              </td><td>999.9        </td><td>0.0            </td><td>1.0           </td><td>0.0            </td><td>0.0             </td><td>0.0            </td><td>0.0              </td></tr>\n",
       "<tr><td>7      </td><td>10010.0      </td><td>99999.0      </td><td>2008.0</td><td>108.0        </td><td>34.7         </td><td>24.0         </td><td>32.5         </td><td>24.0          </td><td>997.7           </td><td>24.0         </td><td>996.5         </td><td>4.0          </td><td>8.4          </td><td>7.0          </td><td>6.3              </td><td>24.0            </td><td>11.7            </td><td>999.9        </td><td>36.1         </td><td>*               </td><td>33.3         </td><td>*               </td><td>0.03           </td><td>G              </td><td>999.9        </td><td>0.0            </td><td>1.0           </td><td>0.0            </td><td>0.0             </td><td>0.0            </td><td>0.0              </td></tr>\n",
       "<tr><td>8      </td><td>10010.0      </td><td>99999.0      </td><td>2008.0</td><td>109.0        </td><td>36.6         </td><td>24.0         </td><td>32.5         </td><td>24.0          </td><td>1000.5          </td><td>24.0         </td><td>999.3         </td><td>4.0          </td><td>18.4         </td><td>6.0          </td><td>19.0             </td><td>24.0            </td><td>31.1            </td><td>999.9        </td><td>38.1         </td><td>                </td><td>33.3         </td><td>                </td><td>0.03           </td><td>G              </td><td>999.9        </td><td>0.0            </td><td>1.0           </td><td>0.0            </td><td>0.0             </td><td>0.0            </td><td>0.0              </td></tr>\n",
       "<tr><td>9      </td><td>10010.0      </td><td>99999.0      </td><td>2008.0</td><td>110.0        </td><td>31.7         </td><td>24.0         </td><td>25.2         </td><td>24.0          </td><td>1006.1          </td><td>24.0         </td><td>1004.9        </td><td>4.0          </td><td>17.1         </td><td>6.0          </td><td>12.5             </td><td>24.0            </td><td>31.1            </td><td>999.9        </td><td>35.1         </td><td>*               </td><td>30.6         </td><td>*               </td><td>0.0            </td><td>G              </td><td>999.9        </td><td>0.0            </td><td>0.0           </td><td>0.0            </td><td>0.0             </td><td>0.0            </td><td>0.0              </td></tr>\n",
       "</table>"
      ]
     },
     "metadata": {},
     "output_type": "display_data"
    },
    {
     "name": "stdout",
     "output_type": "stream",
     "text": [
      "(3495275, 31)\n"
     ]
    }
   ],
   "source": [
    "#Check the size and summary of data\n",
    "wthr.summary()\n",
    "print wthr.shape"
   ]
  },
  {
   "cell_type": "markdown",
   "metadata": {
    "collapsed": false
   },
   "source": [
    "General theme: specify data types correctly, do some conversion, and get rid of bad predictors. We also build a new feature called 'Date' to merge data in the future."
   ]
  },
  {
   "cell_type": "code",
   "execution_count": 311,
   "metadata": {
    "collapsed": true
   },
   "outputs": [],
   "source": [
    "#Construct a proper date\n",
    "wthr[\"Date\"] = (wthr[\"Year\"]*10000) + wthr[\"MonthDay\"]"
   ]
  },
  {
   "cell_type": "code",
   "execution_count": 312,
   "metadata": {
    "collapsed": true
   },
   "outputs": [],
   "source": [
    "#Select only relevant columns\n",
    "wthr = wthr[[\"Date\",\"Station\",\"temp\",\"sea level pres\",\"visibility\",\\\n",
    "               \"mean wind speed\",\"precipitation\",\"snow depth\",\"fog\",\"rain\",\"snow\",\"hail\",\"thunder\",\"tornado\"]]"
   ]
  },
  {
   "cell_type": "code",
   "execution_count": 313,
   "metadata": {
    "collapsed": true
   },
   "outputs": [],
   "source": [
    "#Fix those columns with 9999.9 etc.\n",
    "wthr[wthr[\"Station\"]==999999.0,\"Station\"] = None\n",
    "wthr[wthr[\"sea level pres\"]==9999.9,\"sea level pres\"] = None\n",
    "wthr[wthr[\"visibility\"]==999.9,\"visibility\"] = None\n",
    "wthr[wthr[\"mean wind speed\"]==999.9,\"mean wind speed\"] = None\n",
    "wthr[wthr[\"precipitation\"]==99.99,\"precipitation\"] = None\n",
    "wthr[wthr[\"snow depth\"]==999.9,\"snow depth\"] = None"
   ]
  },
  {
   "cell_type": "markdown",
   "metadata": {},
   "source": [
    "### Airport/Weather station link data"
   ]
  },
  {
   "cell_type": "markdown",
   "metadata": {},
   "source": [
    "I have run basic checks on data as follows"
   ]
  },
  {
   "cell_type": "code",
   "execution_count": 241,
   "metadata": {
    "collapsed": false
   },
   "outputs": [
    {
     "data": {
      "text/html": [
       "<table>\n",
       "<tr><th>       </th><th>C1    </th><th>C2           </th></tr>\n",
       "<tr><td>type   </td><td>enum  </td><td>int          </td></tr>\n",
       "<tr><td>mins   </td><td>0.0   </td><td>4280.0       </td></tr>\n",
       "<tr><td>mean   </td><td>NaN   </td><td>508430.342789</td></tr>\n",
       "<tr><td>maxs   </td><td>6433.0</td><td>999120.0     </td></tr>\n",
       "<tr><td>sigma  </td><td>NaN   </td><td>297727.401584</td></tr>\n",
       "<tr><td>zeros  </td><td>1     </td><td>0            </td></tr>\n",
       "<tr><td>missing</td><td>35602 </td><td>21700        </td></tr>\n",
       "<tr><td>0      </td><td>ADL   </td><td>nan          </td></tr>\n",
       "<tr><td>1      </td><td>      </td><td>nan          </td></tr>\n",
       "<tr><td>2      </td><td>BHQ   </td><td>946890.0     </td></tr>\n",
       "<tr><td>3      </td><td>CED   </td><td>nan          </td></tr>\n",
       "<tr><td>4      </td><td>      </td><td>nan          </td></tr>\n",
       "<tr><td>5      </td><td>      </td><td>nan          </td></tr>\n",
       "<tr><td>6      </td><td>      </td><td>nan          </td></tr>\n",
       "<tr><td>7      </td><td>      </td><td>nan          </td></tr>\n",
       "<tr><td>8      </td><td>      </td><td>nan          </td></tr>\n",
       "<tr><td>9      </td><td>      </td><td>nan          </td></tr>\n",
       "</table>"
      ]
     },
     "metadata": {},
     "output_type": "display_data"
    },
    {
     "name": "stdout",
     "output_type": "stream",
     "text": [
      "(43591, 2)\n"
     ]
    }
   ],
   "source": [
    "#Check the size and summary of data\n",
    "airport_weather_link.summary()\n",
    "print airport_weather_link.shape"
   ]
  },
  {
   "cell_type": "markdown",
   "metadata": {
    "collapsed": false
   },
   "source": [
    "General theme: select revelant columns. It turns out that we need only two of them: iata_xref (airpot name) and maslib (6-digit station code) \n",
    "\n",
    "Reference: http://weather.noaa.gov/tg/site.shtml"
   ]
  },
  {
   "cell_type": "code",
   "execution_count": 242,
   "metadata": {
    "collapsed": true
   },
   "outputs": [],
   "source": [
    "#No need for this as we already have two columns of what we want.\n",
    "#airport_weather_link = airport_weather_link[['iata_xref','maslib']]"
   ]
  },
  {
   "cell_type": "markdown",
   "metadata": {},
   "source": [
    "### Merging data"
   ]
  },
  {
   "cell_type": "markdown",
   "metadata": {},
   "source": [
    "Here one may just use flight data to build a model. However, it might be helpful to integrate the weather information at the destination airport at the date. This leads to a scheme to merge data as follows. First, we merge flight data and airport/weather station link. Here we look for a weather station associated with the destination airport."
   ]
  },
  {
   "cell_type": "code",
   "execution_count": 243,
   "metadata": {
    "collapsed": false
   },
   "outputs": [],
   "source": [
    "#Let's connect with weather information on that day at the arrival airport. We know what is what since we reformat the weather link file.\n",
    "airport_weather_link.set_name(\"C1\",\"Dest\")\n",
    "airport_weather_link.set_name(\"C2\",\"Station\")"
   ]
  },
  {
   "cell_type": "code",
   "execution_count": 248,
   "metadata": {
    "collapsed": true
   },
   "outputs": [],
   "source": [
    "#Merge with flight data\n",
    "data_with_link = data.merge(airport_weather_link,all_x=True,all_y=False)"
   ]
  },
  {
   "cell_type": "markdown",
   "metadata": {},
   "source": [
    "It is useful to select weather data related to relevant stations"
   ]
  },
  {
   "cell_type": "code",
   "execution_count": 343,
   "metadata": {
    "collapsed": false
   },
   "outputs": [
    {
     "data": {
      "text/plain": [
       "(3495275, 14)"
      ]
     },
     "execution_count": 343,
     "metadata": {},
     "output_type": "execute_result"
    }
   ],
   "source": [
    "wthr.shape"
   ]
  },
  {
   "cell_type": "code",
   "execution_count": 363,
   "metadata": {
    "collapsed": true
   },
   "outputs": [],
   "source": [
    "wthr_with_link = wthr.merge(airport_weather_link,all_x=True,all_y=False)"
   ]
  },
  {
   "cell_type": "code",
   "execution_count": 366,
   "metadata": {
    "collapsed": false
   },
   "outputs": [],
   "source": [
    "wthr2 = wthr_with_link[~wthr_with_link[\"Dest\"].isna()]\n",
    "wthr2 = wthr2.drop(\"Dest\")"
   ]
  },
  {
   "cell_type": "code",
   "execution_count": 367,
   "metadata": {
    "collapsed": false
   },
   "outputs": [
    {
     "data": {
      "text/plain": [
       "(1096685, 14)"
      ]
     },
     "execution_count": 367,
     "metadata": {},
     "output_type": "execute_result"
    }
   ],
   "source": [
    "wthr2.shape"
   ]
  },
  {
   "cell_type": "code",
   "execution_count": 368,
   "metadata": {
    "collapsed": true
   },
   "outputs": [],
   "source": [
    "#Create the feature to merge\n",
    "wthr2[\"DateStation\"] = (wthr2[\"Date\"]*1000000) + wthr2[\"Station\"]\n",
    "wthr2 = wthr2.drop(\"Station\").drop(\"Date\") # no longer needed these columns once merged"
   ]
  },
  {
   "cell_type": "markdown",
   "metadata": {},
   "source": [
    "There are only 115 relevant stations!"
   ]
  },
  {
   "cell_type": "markdown",
   "metadata": {
    "collapsed": true
   },
   "source": [
    "Now let's merge flight data and weather data. We create a feature call \"DateStation\" as a key to merge two data tables."
   ]
  },
  {
   "cell_type": "code",
   "execution_count": 369,
   "metadata": {
    "collapsed": true
   },
   "outputs": [],
   "source": [
    "#Create the feature to merge\n",
    "data_with_link[\"DateStation\"] = (data_with_link[\"Date\"]*1000000) + data_with_link[\"Station\"]\n",
    "data_with_link = data_with_link.drop(\"Station\") #Redundant information (similar to destination) \n",
    "data_with_link = data_with_link.drop(\"Date\") #Redundant "
   ]
  },
  {
   "cell_type": "code",
   "execution_count": 370,
   "metadata": {
    "collapsed": false
   },
   "outputs": [
    {
     "data": {
      "text/plain": [
       "((1096685, 12), (43978, 14))"
      ]
     },
     "execution_count": 370,
     "metadata": {},
     "output_type": "execute_result"
    }
   ],
   "source": [
    "wthr2.shape, data_with_link.shape"
   ]
  },
  {
   "cell_type": "code",
   "execution_count": 371,
   "metadata": {
    "collapsed": false
   },
   "outputs": [],
   "source": [
    "#Merge data with DateStation key\n",
    "data_with_weather = data_with_link.merge(wthr2,all_x=True,all_y=False)\n",
    "data_with_weather = data_with_weather.drop(\"DateStation\") #no longer need this link"
   ]
  },
  {
   "cell_type": "markdown",
   "metadata": {},
   "source": [
    "## Stage 4: Model the data"
   ]
  },
  {
   "cell_type": "markdown",
   "metadata": {},
   "source": [
    "In term of preparing data for validation, it is done in the function split_fit_predict as defined below. It is modified such that the peformance measure is AUC."
   ]
  },
  {
   "cell_type": "markdown",
   "metadata": {},
   "source": [
    "Here four models are used: GBM (Gradient Boost Method) DRF (Distributed Random Forest) GLM (Generalized Linear Model) and Deep Learning."
   ]
  },
  {
   "cell_type": "code",
   "execution_count": 372,
   "metadata": {
    "collapsed": true
   },
   "outputs": [],
   "source": [
    "def split_fit_predict(data):\n",
    "    global gbm0,drf0,glm0,dl0\n",
    "    # Classic Test/Train split\n",
    "    r = data['Year'].runif() # Random UNIForm numbers, one per row\n",
    "    train = data[ r < 0.7]\n",
    "    test = data[0.7 <= r]\n",
    "    print(\"Training data has\",train.ncol,\"columns and\",train.nrow,\"rows, test has\",test.nrow,\"rows\")\n",
    "    flight_names_x = data.names\n",
    "    if \"IsArrDelayed\" in flight_names_x: flight_names_x.remove(\"IsArrDelayed\")\n",
    "\n",
    "    # Run GBM\n",
    "    s = time.time()\n",
    "    gbm0 = h2o.H2OGradientBoostingEstimator(ntrees=400, max_depth=6, learn_rate=0.1)\n",
    "    gbm0.train(x=flight_names_x,y=\"IsArrDelayed\",training_frame =train,validation_frame=test)\n",
    "    gbm_elapsed = time.time() - s #measure elapse time\n",
    "\n",
    "    # Run DRF\n",
    "    s = time.time()\n",
    "    drf0 = h2o.H2ORandomForestEstimator(ntrees=100, max_depth=30)\n",
    "    drf0.train(x=flight_names_x,y=\"IsArrDelayed\",training_frame =train,validation_frame=test)\n",
    "    drf_elapsed = time.time() - s\n",
    "\n",
    "    # Run GLM\n",
    "    #if \"WC1\" in bike_names_x: bike_names_x.remove(\"WC1\")\n",
    "    s = time.time()\n",
    "    glm0 = h2o.H2OGeneralizedLinearEstimator(Lambda=[1e-5], family=\"binomial\") #For logistic\n",
    "    glm0.train(x=flight_names_x,y=\"IsArrDelayed\",training_frame =train,validation_frame=test)\n",
    "    glm_elapsed = time.time() - s\n",
    "\n",
    "    # Run DL\n",
    "    s = time.time()\n",
    "    dl0 = h2o.H2ODeepLearningEstimator(hidden=[50,50,50,50], epochs=6)\n",
    "    dl0.train(x=flight_names_x,y=\"IsArrDelayed\",training_frame =train,validation_frame=test)\n",
    "    dl_elapsed = time.time() - s\n",
    "\n",
    "    # ----------\n",
    "    # Score & report\n",
    "    header = [\"Model\", \"AUC TRAIN\", \"AUC TEST\", \"Model Training Time (s)\"]\n",
    "    table = [\n",
    "     [\"GBM\", gbm0.auc(train=True), gbm0.auc(valid=True),\n",
    "    round(gbm_elapsed,3)],\n",
    "     [\"DRF\", drf0.auc(train=True), drf0.auc(valid=True),\n",
    "    round(drf_elapsed,3)],\n",
    "     [\"GLM\", glm0.auc(train=True), glm0.auc(valid=True),\n",
    "    round(glm_elapsed,3)],\n",
    "     [\"DL \", dl0 .auc(train=True), dl0 .auc(valid=True),\n",
    "    round( dl_elapsed,3)],\n",
    "    ]\n",
    "    h2o.display.H2ODisplay(table,header)\n",
    "    # --------\n"
   ]
  },
  {
   "cell_type": "markdown",
   "metadata": {},
   "source": [
    "First, let's look at the model without weather information at the destination airport."
   ]
  },
  {
   "cell_type": "code",
   "execution_count": 373,
   "metadata": {
    "collapsed": false
   },
   "outputs": [
    {
     "name": "stdout",
     "output_type": "stream",
     "text": [
      "('Training data has', 15, 'columns and', 30861, 'rows, test has', 13117, 'rows')\n",
      "\n",
      "gbm Model Build Progress: [##################################################] 100%\n",
      "\n",
      "drf Model Build Progress: [##################################################] 100%\n",
      "\n",
      "glm Model Build Progress: [##################################################] 100%\n",
      "\n",
      "deeplearning Model Build Progress: [##################################################] 100%\n"
     ]
    },
    {
     "data": {
      "text/html": [
       "<div style=\"overflow:auto\"><table style=\"width:50%\"><tr><td><b>Model</b></td>\n",
       "<td><b>AUC TRAIN</b></td>\n",
       "<td><b>AUC TEST</b></td>\n",
       "<td><b>Model Training Time (s)</b></td></tr>\n",
       "<tr><td>GBM</td>\n",
       "<td>0.9180490</td>\n",
       "<td>0.7494372</td>\n",
       "<td>25.728</td></tr>\n",
       "<tr><td>DRF</td>\n",
       "<td>0.7386872</td>\n",
       "<td>0.7529311</td>\n",
       "<td>26.698</td></tr>\n",
       "<tr><td>GLM</td>\n",
       "<td>0.8151717</td>\n",
       "<td>0.6941692</td>\n",
       "<td>56.033</td></tr>\n",
       "<tr><td>DL </td>\n",
       "<td>0.7074555</td>\n",
       "<td>0.6780372</td>\n",
       "<td>56.402</td></tr></table></div>"
      ],
      "text/plain": [
       "Model      AUC TRAIN    AUC TEST    Model Training Time (s)\n",
       "-------  -----------  ----------  -------------------------\n",
       "GBM         0.918049    0.749437                     25.728\n",
       "DRF         0.738687    0.752931                     26.698\n",
       "GLM         0.815172    0.694169                     56.033\n",
       "DL          0.707455    0.678037                     56.402"
      ]
     },
     "metadata": {},
     "output_type": "display_data"
    }
   ],
   "source": [
    "# Split the data (into test & train), fit some models and look at the results\n",
    "split_fit_predict(data)\n",
    "# Explore (in Flow) the 4 models - training time, quality of fit, tendency to overfit\n"
   ]
  },
  {
   "cell_type": "markdown",
   "metadata": {},
   "source": [
    "Next, let's look at the model WITH weather information at the destination airport."
   ]
  },
  {
   "cell_type": "code",
   "execution_count": 374,
   "metadata": {
    "collapsed": false
   },
   "outputs": [
    {
     "name": "stdout",
     "output_type": "stream",
     "text": [
      "('Training data has', 26, 'columns and', 30781, 'rows, test has', 13197, 'rows')\n",
      "\n",
      "gbm Model Build Progress: [##################################################] 100%\n",
      "\n",
      "drf Model Build Progress: [##################################################] 100%\n",
      "\n",
      "glm Model Build Progress: [##################################################] 100%\n",
      "\n",
      "deeplearning Model Build Progress: [##################################################] 100%\n"
     ]
    },
    {
     "data": {
      "text/html": [
       "<div style=\"overflow:auto\"><table style=\"width:50%\"><tr><td><b>Model</b></td>\n",
       "<td><b>AUC TRAIN</b></td>\n",
       "<td><b>AUC TEST</b></td>\n",
       "<td><b>Model Training Time (s)</b></td></tr>\n",
       "<tr><td>GBM</td>\n",
       "<td>0.8526981</td>\n",
       "<td>0.7363485</td>\n",
       "<td>27.844</td></tr>\n",
       "<tr><td>DRF</td>\n",
       "<td>0.7369547</td>\n",
       "<td>0.7435220</td>\n",
       "<td>28.544</td></tr>\n",
       "<tr><td>GLM</td>\n",
       "<td>0.8178602</td>\n",
       "<td>0.6838162</td>\n",
       "<td>23.741</td></tr>\n",
       "<tr><td>DL </td>\n",
       "<td>0.7270701</td>\n",
       "<td>0.6821493</td>\n",
       "<td>61.612</td></tr></table></div>"
      ],
      "text/plain": [
       "Model      AUC TRAIN    AUC TEST    Model Training Time (s)\n",
       "-------  -----------  ----------  -------------------------\n",
       "GBM         0.852698    0.736349                     27.844\n",
       "DRF         0.736955    0.743522                     28.544\n",
       "GLM         0.81786     0.683816                     23.741\n",
       "DL          0.72707     0.682149                     61.612"
      ]
     },
     "metadata": {},
     "output_type": "display_data"
    }
   ],
   "source": [
    "split_fit_predict(data_with_weather)"
   ]
  },
  {
   "cell_type": "markdown",
   "metadata": {},
   "source": [
    "By comparing results and checking model in H2O Flow (Go to http://localhost:54321/flow/index.html Choose Model > List All Models). I found that the best performing model is DRF WITHOUT weather information. Important features are Origin, Destination, and Flight number. Note that weather information may not be much helpful partly because the sample weather information hardly overlaps with the flight data. The difference may be due to random process. "
   ]
  },
  {
   "cell_type": "markdown",
   "metadata": {},
   "source": [
    "One way to improve the model is to add weather information at the origin airport well. But we will stop here."
   ]
  },
  {
   "cell_type": "markdown",
   "metadata": {},
   "source": [
    "Note that validation is done implicitly when we look at H2O Flow models and train-test comparison."
   ]
  },
  {
   "cell_type": "markdown",
   "metadata": {},
   "source": [
    "## Stage 5: Communicate the data"
   ]
  },
  {
   "cell_type": "markdown",
   "metadata": {},
   "source": [
    "For small data, I concluded that potential methods are GBM and DRF. It is not clear yet if weather information useful. It can be useful when we run on the big data.\n",
    "\n",
    "Here is an performance visual example from GBM with weather information (Note that numbers on figures may be different because figures are not upated in pace with the code run).\n",
    "\n",
    "<img src=\"flight-delay-small-GBM-performance-1.JPG\" width = \"500x\">\n",
    "\n",
    "<img src=\"flight-delay-small-GBM-performance-2.JPG\" width = \"500x\">\n",
    "\n",
    "\n"
   ]
  }
 ],
 "metadata": {
  "kernelspec": {
   "display_name": "Python 2",
   "language": "python",
   "name": "python2"
  },
  "language_info": {
   "codemirror_mode": {
    "name": "ipython",
    "version": 2
   },
   "file_extension": ".py",
   "mimetype": "text/x-python",
   "name": "python",
   "nbconvert_exporter": "python",
   "pygments_lexer": "ipython2",
   "version": "2.7.8"
  }
 },
 "nbformat": 4,
 "nbformat_minor": 0
}
